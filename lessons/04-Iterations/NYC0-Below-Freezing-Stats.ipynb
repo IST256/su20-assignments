{
 "cells": [
  {
   "cell_type": "markdown",
   "metadata": {},
   "source": [
    "# Now You Code In Class: Below Freezing Stats\n",
    "\n",
    "Write a program to input a series of temperatures in Celcius, until 'quit' is entered.\n",
    "\n",
    "As the temperatures are input, the program should keep track of the number of temperatures above freezing and below freezing. \n",
    "\n",
    "As output the program should display number and percentage of temperatures above and below freezing. \n",
    "\n",
    "Example Run:\n",
    "\n",
    "```\n",
    "Enter temp or type 'quit': 100\n",
    "Enter temp or type 'quit': 0\n",
    "Enter temp or type 'quit': -100\n",
    "Enter temp or type 'quit': quit\n",
    "Number at or below freezing 2 (66.67%)\n",
    "Number above freezing 1(33.33%)\n",
    "```"
   ]
  },
  {
   "cell_type": "markdown",
   "metadata": {
    "collapsed": true
   },
   "source": [
    "## Step 1: Problem Analysis\n",
    "\n",
    "Inputs:\n",
    "\n",
    "Outputs:\n",
    "\n",
    "Algorithm (Steps in Program):\n",
    "\n",
    "\n"
   ]
  },
  {
   "cell_type": "code",
   "execution_count": 1,
   "metadata": {},
   "outputs": [],
   "source": [
    "# Step 2: Write code here\n"
   ]
  }
 ],
 "metadata": {
  "anaconda-cloud": {},
  "kernelspec": {
   "display_name": "Python 3",
   "language": "python",
   "name": "python3"
  },
  "language_info": {
   "codemirror_mode": {
    "name": "ipython",
    "version": 3
   },
   "file_extension": ".py",
   "mimetype": "text/x-python",
   "name": "python",
   "nbconvert_exporter": "python",
   "pygments_lexer": "ipython3",
   "version": "3.6.6"
  },
  "toc": {
   "base_numbering": 1,
   "nav_menu": {},
   "number_sections": false,
   "sideBar": false,
   "skip_h1_title": false,
   "title_cell": "Table of Contents",
   "title_sidebar": "Contents",
   "toc_cell": false,
   "toc_position": {},
   "toc_section_display": false,
   "toc_window_display": false
  }
 },
 "nbformat": 4,
 "nbformat_minor": 1
}
