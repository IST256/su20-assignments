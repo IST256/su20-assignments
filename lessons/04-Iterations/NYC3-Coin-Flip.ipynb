{
 "cells": [
  {
   "cell_type": "markdown",
   "metadata": {},
   "source": [
    "# Now You Code 3: Coin Flips\n",
    "\n",
    "Write a program to simulate 100,000 coin flips. The program should output\n",
    "the tally of heads and tails across the number of flips.\n",
    "\n",
    "For Example:\n",
    "After 100000 flips. Heads: 50030, Tails 49970\n",
    "\n",
    "Of course, since the flips are random, the counts will vary each time the program executes.\n",
    "\n",
    "Your strategy should be to use a loop to flip a coin 100,000 times.\n",
    "After you flip you should check for heads or tails and increment the count\n",
    "accordingly.\n",
    "\n",
    "### How do you make Python simulate a coin flip?"
   ]
  },
  {
   "cell_type": "code",
   "execution_count": 11,
   "metadata": {},
   "outputs": [
    {
     "name": "stdout",
     "output_type": "stream",
     "text": [
      "heads\n"
     ]
    }
   ],
   "source": [
    "# Sample code which demostrates how to flip a coin in python\n",
    "import random \n",
    "coin = ['heads', 'tails']\n",
    "flip = random.choice(coin)\n",
    "print(flip)"
   ]
  },
  {
   "cell_type": "markdown",
   "metadata": {},
   "source": [
    "Run the cell above a couple of times. Notice how each time you execute the code, it comes up as either `heads` or `tails`.\n",
    "\n",
    "Here's a breakdown of the code\n",
    "\n",
    "```\n",
    "line 1 imports the random module\n",
    "line 2 sets up a coin to have two choices heads or tails\n",
    "line 3 \"flips\" a coin by making a random choice among the values of the coin ('heads' or 'tails')\n",
    "line 4 prints the results of the coin flip.\n",
    "```\n",
    "\n",
    "Now that you understand how to simulate a coin flip in Python, try to design an algorithm and then write code for the program."
   ]
  },
  {
   "cell_type": "markdown",
   "metadata": {
    "collapsed": true
   },
   "source": [
    "## Step 1: Problem Analysis \n",
    "\n",
    "Inputs:\n",
    "\n",
    "Outputs:\n",
    "\n",
    "Algorithm (Steps in Program):\n",
    "\n",
    "\n"
   ]
  },
  {
   "cell_type": "code",
   "execution_count": 1,
   "metadata": {},
   "outputs": [
    {
     "name": "stdout",
     "output_type": "stream",
     "text": [
      "How many times should I flip the coin? 10000000\n",
      "After 10000000 flips. Heads: 4999224, Tails 5000776\n"
     ]
    }
   ],
   "source": [
    "import random\n",
    "# Step 2: write code for program\n"
   ]
  },
  {
   "cell_type": "markdown",
   "metadata": {},
   "source": [
    "## Step 3: Questions\n",
    "\n",
    "1. Which loop did you use to solve the problem? What it a definite or indefinite loop?\n",
    "\n",
    "Answer:  \n",
    "\n",
    "\n",
    "2. Modify this program to allow you to input the number of times you would like to flip the coin. NOTE: if you enter a large number, the program could take a few minutes to execute. Be Patient!!!\n",
    "\n",
    "Answer:   \n",
    "\n",
    "\n",
    "3. Explain how this progam could be modified to track flipping a \"three\" sided coin with `heads`, `tails` and `foos` for example? Do not modify the code, only explain your strategy.\n",
    "\n",
    "Answer:  \n",
    "\n",
    "\n",
    "\n"
   ]
  },
  {
   "cell_type": "markdown",
   "metadata": {},
   "source": [
    "## Step 4: Reflection\n",
    "\n",
    "Reflect upon your experience completing this assignment. This should be a personal narrative, in your own voice, and cite specifics relevant to the activity as to help the grader understand how you arrived at the code you submitted. Things to consider touching upon: Elaborate on the process itself. Did your original problem analysis work as designed?  How many iterations did you go through before you arrived at the solution? Where did you struggle along the way and how did you overcome it? What did you learn from completing the assignment? What do you need to work on to get better? What was most valuable and least valuable about this exercise? Do you have any suggestions for improvements?\n",
    "\n",
    "To make a good reflection, you should journal your thoughts, questions and comments while you complete the exercise.\n",
    "\n",
    "Keep your response to between 100 and 250 words.\n",
    "\n",
    "`--== Write Your Reflection Below Here ==--`\n",
    "\n"
   ]
  }
 ],
 "metadata": {
  "anaconda-cloud": {},
  "kernelspec": {
   "display_name": "Python 3",
   "language": "python",
   "name": "python3"
  },
  "language_info": {
   "codemirror_mode": {
    "name": "ipython",
    "version": 3
   },
   "file_extension": ".py",
   "mimetype": "text/x-python",
   "name": "python",
   "nbconvert_exporter": "python",
   "pygments_lexer": "ipython3",
   "version": "3.6.6"
  },
  "toc": {
   "base_numbering": 1,
   "nav_menu": {},
   "number_sections": false,
   "sideBar": false,
   "skip_h1_title": false,
   "title_cell": "Table of Contents",
   "title_sidebar": "Contents",
   "toc_cell": false,
   "toc_position": {},
   "toc_section_display": false,
   "toc_window_display": false
  }
 },
 "nbformat": 4,
 "nbformat_minor": 1
}
