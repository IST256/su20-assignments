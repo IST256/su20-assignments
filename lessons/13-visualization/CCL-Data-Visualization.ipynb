{
 "cells": [
  {
   "cell_type": "markdown",
   "metadata": {},
   "source": [
    "# In-Class Coding Lab: Data Visualization\n",
    "\n",
    "The goals of this lab are to help you understand:\n",
    "\n",
    " - The value of visualization: A picture is worth 1,000 words!\n",
    " - The various ways to visualize information\n",
    " - The basic requirements for any visualization\n",
    " - How to plot complex visualizations such as multi-series charts and maps\n",
    " - Visualization Tools:\n",
    "     - Matplolib\n",
    "     - Plot.ly\n",
    "     - Folium Maps\n",
    "     "
   ]
  },
  {
   "cell_type": "code",
   "execution_count": null,
   "metadata": {},
   "outputs": [],
   "source": [
    "# first, make sure we have the right modules installed\n",
    "!pip install --upgrade chart-studio plotly"
   ]
  },
  {
   "cell_type": "code",
   "execution_count": 1,
   "metadata": {},
   "outputs": [],
   "source": [
    "%matplotlib inline \n",
    "\n",
    "import matplotlib\n",
    "import matplotlib.pyplot as plt\n",
    "import chart_studio as plotly\n",
    "import chart_studio.plotly as py\n",
    "import plotly.express as px\n",
    "import plotly.graph_objects as go\n",
    "import pandas as pd\n",
    "import folium\n",
    "import warnings\n",
    "#matplotlib.rcParams['figure.figsize'] = (20.0, 10.0) # larger figure size\n",
    "warnings.filterwarnings('ignore')"
   ]
  },
  {
   "cell_type": "markdown",
   "metadata": {},
   "source": [
    "## Back to the movie goers data set\n",
    "\n",
    "For this lab, we will once again use the movie goers dataset. As you may recall this data set is a survey demographic survey of people who go to the movies. Let's reload the data and setup our `age_group` feature again."
   ]
  },
  {
   "cell_type": "code",
   "execution_count": 3,
   "metadata": {},
   "outputs": [
    {
     "data": {
      "text/html": [
       "<div>\n",
       "<style scoped>\n",
       "    .dataframe tbody tr th:only-of-type {\n",
       "        vertical-align: middle;\n",
       "    }\n",
       "\n",
       "    .dataframe tbody tr th {\n",
       "        vertical-align: top;\n",
       "    }\n",
       "\n",
       "    .dataframe thead th {\n",
       "        text-align: right;\n",
       "    }\n",
       "</style>\n",
       "<table border=\"1\" class=\"dataframe\">\n",
       "  <thead>\n",
       "    <tr style=\"text-align: right;\">\n",
       "      <th></th>\n",
       "      <th>user_id</th>\n",
       "      <th>age</th>\n",
       "      <th>gender</th>\n",
       "      <th>occupation</th>\n",
       "      <th>zip_code</th>\n",
       "      <th>age_group</th>\n",
       "    </tr>\n",
       "  </thead>\n",
       "  <tbody>\n",
       "    <tr>\n",
       "      <th>835</th>\n",
       "      <td>836</td>\n",
       "      <td>44</td>\n",
       "      <td>M</td>\n",
       "      <td>artist</td>\n",
       "      <td>10018</td>\n",
       "      <td>Adult</td>\n",
       "    </tr>\n",
       "    <tr>\n",
       "      <th>447</th>\n",
       "      <td>448</td>\n",
       "      <td>23</td>\n",
       "      <td>M</td>\n",
       "      <td>entertainment</td>\n",
       "      <td>10021</td>\n",
       "      <td>Adult</td>\n",
       "    </tr>\n",
       "    <tr>\n",
       "      <th>314</th>\n",
       "      <td>315</td>\n",
       "      <td>31</td>\n",
       "      <td>M</td>\n",
       "      <td>educator</td>\n",
       "      <td>18301</td>\n",
       "      <td>Adult</td>\n",
       "    </tr>\n",
       "    <tr>\n",
       "      <th>585</th>\n",
       "      <td>586</td>\n",
       "      <td>20</td>\n",
       "      <td>M</td>\n",
       "      <td>student</td>\n",
       "      <td>79508</td>\n",
       "      <td>Adult</td>\n",
       "    </tr>\n",
       "    <tr>\n",
       "      <th>728</th>\n",
       "      <td>729</td>\n",
       "      <td>19</td>\n",
       "      <td>M</td>\n",
       "      <td>student</td>\n",
       "      <td>56567</td>\n",
       "      <td>Adult</td>\n",
       "    </tr>\n",
       "  </tbody>\n",
       "</table>\n",
       "</div>"
      ],
      "text/plain": [
       "     user_id  age gender     occupation zip_code age_group\n",
       "835      836   44      M         artist    10018     Adult\n",
       "447      448   23      M  entertainment    10021     Adult\n",
       "314      315   31      M       educator    18301     Adult\n",
       "585      586   20      M        student    79508     Adult\n",
       "728      729   19      M        student    56567     Adult"
      ]
     },
     "execution_count": 3,
     "metadata": {},
     "output_type": "execute_result"
    }
   ],
   "source": [
    "goers = pd.read_csv('CCL-moviegoers.csv')\n",
    "goers['age_group'] = ''\n",
    "goers['age_group'][goers['age'] <=18] = 'Youth'\n",
    "goers['age_group'][(goers['age'] >=19) & (goers['age'] <=55)] = 'Adult'\n",
    "goers['age_group'][goers['age'] >=56] = 'Senior'\n",
    "\n",
    "goers.sample(5)"
   ]
  },
  {
   "cell_type": "markdown",
   "metadata": {},
   "source": [
    "## Visualizing Data\n",
    "\n",
    "There are many ways your can visualize information. Which one is the most appropriate? It depends on the data, of course. \n",
    "\n",
    "- **Counting Categorial data** belongs in *charts like pie charts and bar charts*.\n",
    "- **Counting Numerical data** is best suited for *histograms*.\n",
    "- **Timeseries data and continuous data** belongs in *line charts*.\n",
    "- **A comparision of two continuous values** is best suited for a *scatter plot*. \n",
    "- **Geographical data** is best displauyed on *maps*.\n",
    "\n",
    "Let's use this knowledge to plot some data in the `goers` `DataFrame`!\n",
    "\n",
    "## Males or Females?\n",
    "\n",
    "The first thing we might want to visualize is a count of gender in the dataset. A **pie** chart is well suited for this task as it displays data as a portion of a whole. To create a pie chart we need the data to count and the labels for the counts.\n",
    "\n",
    "Let's try it.\n",
    "\n",
    "First we get the value counts as a series `gender`:"
   ]
  },
  {
   "cell_type": "code",
   "execution_count": null,
   "metadata": {},
   "outputs": [],
   "source": [
    "gender = goers['gender'].value_counts()\n",
    "gender"
   ]
  },
  {
   "cell_type": "markdown",
   "metadata": {},
   "source": [
    "Then we make it into a dataframe:"
   ]
  },
  {
   "cell_type": "code",
   "execution_count": null,
   "metadata": {},
   "outputs": [],
   "source": [
    "gender_df = pd.DataFrame( { 'Gender' : gender.index,  \"Counts\" : gender })\n",
    "gender_df"
   ]
  },
  {
   "cell_type": "markdown",
   "metadata": {},
   "source": [
    "Then we plot! The index has the labels, and the value at the index is what we want to plot:"
   ]
  },
  {
   "cell_type": "code",
   "execution_count": null,
   "metadata": {},
   "outputs": [],
   "source": [
    "gender_df.plot.pie( y = 'Counts') # y are the values we are plotting"
   ]
  },
  {
   "cell_type": "markdown",
   "metadata": {},
   "source": [
    "### Now You Try it!\n",
    "\n",
    "Create a pie chart based on `age_group` first create a series of the `value_counts()` second, create the `DataFrame` with two columns `AgeGroup` and `Counts` then plot with `.plot.pie()`. \n",
    "\n",
    "Follow the steps we did in the previous three cells, but comvine into one cell!"
   ]
  },
  {
   "cell_type": "code",
   "execution_count": null,
   "metadata": {},
   "outputs": [],
   "source": [
    "#todo write code here\n"
   ]
  },
  {
   "cell_type": "markdown",
   "metadata": {},
   "source": [
    "## Too many pieces of the pie?\n",
    "\n",
    "Pie charts are nice, but they are only useful when you have a small number of labels. More that 5-7 labels and the pie becomes messy. For example take a look at this pie chart of `occupation`:"
   ]
  },
  {
   "cell_type": "code",
   "execution_count": null,
   "metadata": {},
   "outputs": [],
   "source": [
    "occ = goers['occupation'].value_counts()\n",
    "occ_df = pd.DataFrame( { 'occupation' : occ.index,  \"counts\" : occ })\n",
    "occ_df.plot.pie(y = 'counts')\n"
   ]
  },
  {
   "cell_type": "markdown",
   "metadata": {},
   "source": [
    "That's crazy... and difficult to comprehend. Also pie charts visualize data as part of the whole. We have no idea how many students there are. Sometimes we want to know actual counts. This is where the **bar chart** comes in handy!\n",
    "\n",
    "## Raising the bar!\n",
    "\n",
    "Let's reproduce the same plot as a bar:"
   ]
  },
  {
   "cell_type": "code",
   "execution_count": null,
   "metadata": {},
   "outputs": [],
   "source": [
    "occ_df.plot.bar()"
   ]
  },
  {
   "cell_type": "markdown",
   "metadata": {},
   "source": [
    "Ahh. that's much better. So much easier to understand!\n",
    "\n",
    "### Now you try it!\n",
    "\n",
    "Write a one-liner to plot `goers_df` as a Bar!"
   ]
  },
  {
   "cell_type": "code",
   "execution_count": null,
   "metadata": {},
   "outputs": [],
   "source": [
    "# todo write code here\n"
   ]
  },
  {
   "cell_type": "markdown",
   "metadata": {},
   "source": [
    "## When bar charts fail... \n",
    "\n",
    "Bar charts have the same problem as pie charts. Too many categories overcomplicate the chart, or show the data in a meaningless way. For example, let's create a bart chart for ages: "
   ]
  },
  {
   "cell_type": "code",
   "execution_count": null,
   "metadata": {},
   "outputs": [],
   "source": [
    "ages = goers['age'].value_counts()\n",
    "ages_df = pd.DataFrame( { 'age' : ages.index,  \"counts\" : ages })\n",
    "ages_df.plot.bar(y = 'counts')"
   ]
  },
  {
   "cell_type": "markdown",
   "metadata": {},
   "source": [
    "Meaningless. For two key reasons:\n",
    "\n",
    "1. too many categories\n",
    "2. age is a continuous variable not a categorical variable. In plain English, this means there's a relationship between one age and the next.  20 < 21 < 22. This is not represented in a bar chart.\n",
    "\n",
    "## ...Call in the Histogram!\n",
    "\n",
    "What we want is a **historgram**, which takes a continuous variable and loads counts into \"buckets\".  Notice how we didn't have to lump data with `value_counts()`. Histograms can do that automatically because the `age` variable is continuous. Let's try it:"
   ]
  },
  {
   "cell_type": "code",
   "execution_count": null,
   "metadata": {},
   "outputs": [],
   "source": [
    "goers.hist(column ='age', color='gray', edgecolor='blue')"
   ]
  },
  {
   "cell_type": "markdown",
   "metadata": {},
   "source": [
    "The default histogram has 10 bins. You can tweak the number of bins in your plot with a named argument.  For example, here's 15 bins."
   ]
  },
  {
   "cell_type": "code",
   "execution_count": null,
   "metadata": {},
   "outputs": [],
   "source": [
    "goers.hist(column ='age', bins=15, color='pink', edgecolor='red')"
   ]
  },
  {
   "cell_type": "markdown",
   "metadata": {},
   "source": [
    "### Now you try it!\n",
    "\n",
    "Make a histogram of ages with 7 bins bar color cyan and edge color black"
   ]
  },
  {
   "cell_type": "code",
   "execution_count": null,
   "metadata": {},
   "outputs": [],
   "source": [
    "# todo write code here\n",
    "\n"
   ]
  },
  {
   "cell_type": "markdown",
   "metadata": {},
   "source": [
    "## Plot.ly\n",
    "\n",
    "[Plot.ly](https://plot.ly) is data visualization as a service. You give it data, it gives you back a web-based plot. Plot.ly is free and works with a variety of environments and programming languages, including Python. \n",
    "\n",
    "For Python is has bindings so that you can use it just like `matplotlib`! No need to manually invoke the web service call.\n",
    "\n",
    "To get started with plot.ly you must sign up for an account and get a set of credentials:\n",
    "\n",
    "- Visit [https://plot.ly/settings/api](https://plot.ly/settings/api)\n",
    "- Create an account or sign-in with Google or GitHub\n",
    "- Generate your API key and paste your username and key in the code below:"
   ]
  },
  {
   "cell_type": "code",
   "execution_count": null,
   "metadata": {},
   "outputs": [],
   "source": [
    "# todo: setup the credentials replace ??? and ??? with your Plot.ly username and api_key\n",
    "\n",
    "plotly.tools.set_credentials_file(username='???', api_key='???')"
   ]
  },
  {
   "cell_type": "markdown",
   "metadata": {},
   "source": [
    "### Plotly Express... easy as pie!\n",
    "\n",
    "Using plot.ly is as easy as, or sometimes easier than `matplotlib`. The Plotly expresss module (imported here as `px`) allows for easy plotting of data frames. Here's an example of plotting the same pie chart from above:"
   ]
  },
  {
   "cell_type": "code",
   "execution_count": null,
   "metadata": {},
   "outputs": [],
   "source": [
    "px.pie(gender_df,  labels=\"Gender\", names='Gender', values = \"Counts\")"
   ]
  },
  {
   "cell_type": "markdown",
   "metadata": {},
   "source": [
    "Notice that plot.ly is a bit more interactive. You can hover over the part of the pie chart and see counts!\n",
    "\n",
    "### Ploty Express... raising the bar!\n",
    "\n",
    "Here's the same information in a bar chart using plotly express."
   ]
  },
  {
   "cell_type": "code",
   "execution_count": null,
   "metadata": {},
   "outputs": [],
   "source": [
    "px.bar(gender_df,  labels=\"Gender\", x='Gender', y = \"Counts\")"
   ]
  },
  {
   "cell_type": "markdown",
   "metadata": {},
   "source": [
    "### Many chart types to choose from.\n",
    "\n",
    "If you `dir(px)` you can see all the different chart types supported by Plotly Express. To learn how to plot one, use `help(px.bar)` for example to learn how to plot a bar chart. You can also consult https://plot.ly/python/ for more information."
   ]
  },
  {
   "cell_type": "code",
   "execution_count": null,
   "metadata": {},
   "outputs": [],
   "source": [
    "# TODO: Type dir(px) to see the different plot types, then use help() to bring up help for a plot type.\n"
   ]
  },
  {
   "cell_type": "markdown",
   "metadata": {},
   "source": [
    "\n",
    "\n",
    "### Now You Try it!\n",
    "\n",
    "Use Plotly Express's `px` to create a bar chart on the `occ_df` Data Frame:\n"
   ]
  },
  {
   "cell_type": "code",
   "execution_count": null,
   "metadata": {},
   "outputs": [],
   "source": [
    "# todo: write code here\n"
   ]
  },
  {
   "cell_type": "markdown",
   "metadata": {},
   "source": [
    "### PoP (Plain old Plotly)\n",
    "\n",
    "Plotly Express is great for Pandas dataframes, but Plotly can plot anything. Basically the setup is :\n",
    "\n",
    "1. make a figure object\n",
    "2. add traces ( series) to the plot\n",
    "3. set the labels,if you want\n",
    "3. show the figure.  \n",
    "\n",
    "\n",
    "Here's the same gender plot, Plotly style:"
   ]
  },
  {
   "cell_type": "code",
   "execution_count": null,
   "metadata": {},
   "outputs": [],
   "source": [
    "series = go.Bar(x=gender_df['Gender'], y=gender_df['Counts']) \n",
    "\n",
    "fig = go.Figure()\n",
    "fig.add_trace(series)\n",
    "fig.update_layout(title=\"Count of Moive Goers By Gender\", xaxis_title = 'Gender', yaxis_title='Number of People')\n",
    "fig.show()\n"
   ]
  },
  {
   "cell_type": "markdown",
   "metadata": {},
   "source": [
    "### Need more than one series?\n",
    "\n",
    "When you use Plain old Plotly, its simple to add multiple series to the plot. All you do is add additional Graph objects using the `add_trace()` method  Let's make up some extra data and add it to the plot. Note how we add the `name=` argument to label each series. Also each series does not need to be the same plot type. You can mix `Bar` with `Line` etc...\n"
   ]
  },
  {
   "cell_type": "code",
   "execution_count": null,
   "metadata": {},
   "outputs": [],
   "source": [
    "projections = [800, 400]\n",
    "\n",
    "fig2 = go.Figure()\n",
    "fig2.add_trace(go.Bar(x=gender_df['Gender'], y=gender_df['Counts'], name=\"Actual\")) # Bar Plot of actual\n",
    "fig2.add_trace(go.Bar(x=gender_df['Gender'], y=projections, name=\"Projected\"))        # Bar plot of Projected\n",
    "fig2.update_layout(title=\"Count of Moive Goers By Gender\", xaxis_title = 'Gender', yaxis_title='Number of People')\n",
    "fig2.show()\n",
    "\n",
    "    "
   ]
  },
  {
   "cell_type": "markdown",
   "metadata": {},
   "source": [
    "### Now You Try It!\n",
    "\n",
    "The following code adds a column `'last_year'` to the `occ_df`. \n",
    "\n",
    "Create a two-series plotly plot of movie goers counts. Label `counts` as `This year` and `last_year` as `Last Year`, of course."
   ]
  },
  {
   "cell_type": "code",
   "execution_count": null,
   "metadata": {},
   "outputs": [],
   "source": [
    "import random\n",
    "occ_df['last_year'] = random.randint(-15,15) +occ_df['counts']\n",
    "occ_df.head(3)"
   ]
  },
  {
   "cell_type": "code",
   "execution_count": null,
   "metadata": {},
   "outputs": [],
   "source": [
    "# TODO: Make your 2 series plotly plot here\n",
    "\n"
   ]
  },
  {
   "cell_type": "markdown",
   "metadata": {},
   "source": [
    "## Folium with Leaflet.js\n",
    "\n",
    "Folium is a Python module wrapper for [Leaflet.js](http://leafletjs.com/), which uses [Open Street Maps](https://www.openstreetmap.us/). These are two, popular open source mapping libraries. Unlike Google maps API, its 100% free!\n",
    "\n",
    "You can use Folium to render maps in Python and put data on the maps. Here's how easy it is to bring up a map:\n"
   ]
  },
  {
   "cell_type": "code",
   "execution_count": null,
   "metadata": {
    "scrolled": true
   },
   "outputs": [],
   "source": [
    "CENTER_US = (39.8333333,-98.585522)\n",
    "london = (51.5074, -0.1278)\n",
    "map = folium.Map(location=CENTER_US, zoom_start=4)\n",
    "map"
   ]
  },
  {
   "cell_type": "markdown",
   "metadata": {},
   "source": [
    "You can zoom right down to the street level and get a amazing detail. There are different maps you can use, as was covered in this week's reading. \n",
    "\n",
    "### Mapping the student movie goers.\n",
    "\n",
    "Let's take the largest category of movie goers and map their whereabouts. We will first need to import a data set to give us a lat/lng for the `zip_code` we have in the dataframe. We could look this up with Google's geolookup API, but that's too slow as we will be making 100's of requests. It's better to have them stored already and merge them with `goers`!\n",
    "\n",
    "Let's import the zipcode database into a Pandas DataFrame, then merge it with the `goers` DataFrame:"
   ]
  },
  {
   "cell_type": "code",
   "execution_count": 4,
   "metadata": {},
   "outputs": [
    {
     "data": {
      "text/html": [
       "<div>\n",
       "<style scoped>\n",
       "    .dataframe tbody tr th:only-of-type {\n",
       "        vertical-align: middle;\n",
       "    }\n",
       "\n",
       "    .dataframe tbody tr th {\n",
       "        vertical-align: top;\n",
       "    }\n",
       "\n",
       "    .dataframe thead th {\n",
       "        text-align: right;\n",
       "    }\n",
       "</style>\n",
       "<table border=\"1\" class=\"dataframe\">\n",
       "  <thead>\n",
       "    <tr style=\"text-align: right;\">\n",
       "      <th></th>\n",
       "      <th>user_id</th>\n",
       "      <th>age</th>\n",
       "      <th>gender</th>\n",
       "      <th>occupation</th>\n",
       "      <th>zip_code</th>\n",
       "      <th>age_group</th>\n",
       "      <th>Zipcode</th>\n",
       "      <th>ZipCodeType</th>\n",
       "      <th>City</th>\n",
       "      <th>State</th>\n",
       "      <th>LocationType</th>\n",
       "      <th>Lat</th>\n",
       "      <th>Long</th>\n",
       "      <th>Location</th>\n",
       "      <th>Decommisioned</th>\n",
       "      <th>TaxReturnsFiled</th>\n",
       "      <th>EstimatedPopulation</th>\n",
       "      <th>TotalWages</th>\n",
       "    </tr>\n",
       "  </thead>\n",
       "  <tbody>\n",
       "    <tr>\n",
       "      <th>693</th>\n",
       "      <td>742</td>\n",
       "      <td>35</td>\n",
       "      <td>M</td>\n",
       "      <td>student</td>\n",
       "      <td>29210</td>\n",
       "      <td>Adult</td>\n",
       "      <td>29210</td>\n",
       "      <td>STANDARD</td>\n",
       "      <td>COLUMBIA</td>\n",
       "      <td>SC</td>\n",
       "      <td>PRIMARY</td>\n",
       "      <td>34.0</td>\n",
       "      <td>-81.03</td>\n",
       "      <td>NA-US-SC-COLUMBIA</td>\n",
       "      <td>False</td>\n",
       "      <td>16527.0</td>\n",
       "      <td>25830.0</td>\n",
       "      <td>440319512.0</td>\n",
       "    </tr>\n",
       "  </tbody>\n",
       "</table>\n",
       "</div>"
      ],
      "text/plain": [
       "     user_id  age gender occupation zip_code age_group Zipcode ZipCodeType  \\\n",
       "693      742   35      M    student    29210     Adult   29210    STANDARD   \n",
       "\n",
       "         City State LocationType   Lat   Long           Location  \\\n",
       "693  COLUMBIA    SC      PRIMARY  34.0 -81.03  NA-US-SC-COLUMBIA   \n",
       "\n",
       "     Decommisioned  TaxReturnsFiled  EstimatedPopulation   TotalWages  \n",
       "693          False          16527.0              25830.0  440319512.0  "
      ]
     },
     "execution_count": 4,
     "metadata": {},
     "output_type": "execute_result"
    }
   ],
   "source": [
    "zipcodes = pd.read_csv('https://raw.githubusercontent.com/mafudge/datasets/master/zipcodes/free-zipcode-database-Primary.csv', dtype = {'Zipcode' :object})\n",
    "data = goers.merge(zipcodes,  how ='inner', left_on='zip_code', right_on='Zipcode')\n",
    "students = data[ data['occupation'] == 'student']\n",
    "students.sample()"
   ]
  },
  {
   "cell_type": "markdown",
   "metadata": {},
   "source": [
    "Let's explain the code, as a Pandas refresher course:\n",
    "\n",
    "1. in the first line I added `dtype = {'Zipcode' :object}` to force the `Zipcode` column to be of type `object` without that, it imports as type `int` and cannot match with the `goers` DataFrame.\n",
    "1. the next line merges the two dataframes together where the `zip_code` in `goers` (on_left) matches `Zipcode` in `zipcodes` (on_right)\n",
    "1. the result `data` is a combined DataFrame, which we then filter to only `student` occupations, sorting that in the `students` DataFrame\n",
    "\n",
    "\n",
    "### Slapping those students on a map!\n",
    "\n",
    "We're ready to place the students on a map. It's easy:\n",
    "\n",
    "1. For each row in the students dataframe:\n",
    "1.   get the coordinates (lat /lng )\n",
    "1.   make a `marker` with the coordinates\n",
    "1.   add the marker to the map with `add_children()`\n",
    "\n",
    "Here we go!\n"
   ]
  },
  {
   "cell_type": "code",
   "execution_count": null,
   "metadata": {},
   "outputs": [],
   "source": [
    "for row in students.to_records():\n",
    "    pos = (row['Lat'],row['Long'])\n",
    "    message = f\"{row['age']} year old {row['gender']}  {row['occupation']} from {row['City']},{row['State']}\"\n",
    "    marker = folium.Marker(location=pos, \n",
    "                    popup=message\n",
    "                          )\n",
    "    map.add_child(marker)\n",
    "map"
   ]
  },
  {
   "cell_type": "markdown",
   "metadata": {},
   "source": [
    "### Now you try it!\n",
    "\n",
    "\n",
    "1. use the `data` DataFrame to retrieve only the occupation `programmer`\n",
    "1. create another map `map2` plot the programmers on that map!"
   ]
  },
  {
   "cell_type": "code",
   "execution_count": null,
   "metadata": {},
   "outputs": [],
   "source": [
    "## todo write code here!\n"
   ]
  },
  {
   "cell_type": "markdown",
   "metadata": {},
   "source": [
    "## Metacognition\n",
    "\n",
    "Please answer the following questions. This should be a personal narrative, in your own voice. Answer the questions by double clicking on the question and placing your answer next to the Answer: prompt.\n",
    "\n",
    "### Questions\n",
    "\n",
    "1. Record any questions you have about this lab that you would like to ask in recitation. It is expected you will have questions if you did not complete the code sections correctly.  Learning how to articulate what you do not understand is an important skill of critical thinking. \n",
    "\n",
    "Answer: \n",
    "\n",
    "2. What was the most difficult aspect of completing this lab? Least difficult?  \n",
    "\n",
    "Answer: \n",
    "\n",
    "3. What aspects of this lab do you find most valuable? Least valuable?\n",
    "\n",
    "Answer: \n",
    "\n",
    "4. Rate your comfort level with this week's material so far.   \n",
    "\n",
    "1 ==> I can do this on my own and explain how to do it.   \n",
    "2 ==> I can do this on my own without any help.   \n",
    "3 ==> I can do this with help or guidance from others. If you choose this level please list those who helped you.   \n",
    "4 ==> I don't understand this at all yet and need extra help. If you choose this please try to articulate that which you do not understand.   \n",
    "\n",
    "Answer: \n",
    "\n"
   ]
  },
  {
   "cell_type": "code",
   "execution_count": null,
   "metadata": {},
   "outputs": [],
   "source": [
    "# RUN THIS CODE CELL TO TURN IN YOUR WORK!\n",
    "from ist256.submission import Submission\n",
    "Submission().submit()"
   ]
  }
 ],
 "metadata": {
  "anaconda-cloud": {},
  "kernelspec": {
   "display_name": "Python 3",
   "language": "python",
   "name": "python3"
  },
  "language_info": {
   "codemirror_mode": {
    "name": "ipython",
    "version": 3
   },
   "file_extension": ".py",
   "mimetype": "text/x-python",
   "name": "python",
   "nbconvert_exporter": "python",
   "pygments_lexer": "ipython3",
   "version": "3.8.2"
  },
  "toc": {
   "base_numbering": 1,
   "nav_menu": {},
   "number_sections": false,
   "sideBar": false,
   "skip_h1_title": false,
   "title_cell": "Table of Contents",
   "title_sidebar": "Contents",
   "toc_cell": false,
   "toc_position": {},
   "toc_section_display": false,
   "toc_window_display": false
  }
 },
 "nbformat": 4,
 "nbformat_minor": 4
}
