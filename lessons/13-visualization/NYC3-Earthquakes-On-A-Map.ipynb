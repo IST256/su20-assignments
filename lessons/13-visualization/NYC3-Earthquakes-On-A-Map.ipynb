{
 "cells": [
  {
   "cell_type": "markdown",
   "metadata": {},
   "source": [
    "## Now You Code 3: Mapping Earthquakes\n",
    "\n",
    "Let's plot a live map of earthquakes from the USGS earthquake data feed. \n",
    "\n",
    "Here's a sample of the output, zoomed in over California\n",
    "\n",
    "![NYC3-screenshot.png](NYC3-screenshot.png)\n",
    "\n",
    "How to do it:\n",
    "\n",
    "- Read the earthquake data from http://earthquake.usgs.gov/earthquakes/feed/v1.0/summary/1.0_week.geojson  \n",
    "- Then plot it on a folium map using CircleMarkers (no need to use Pandas). \n",
    "- Make the size of the marker correlate to the magnitude of the earthquake (bigger circle for bigger magnitude) also when you click on the marker you should see the title of the earthquake.\n",
    "\n",
    "Here's a formula for making your markers more noticeable:\n",
    "`radius = ( 0.8 * earthquake_magnitude) ** 2` Feel free to tweak the formula to adjust the circles to a suitable size."
   ]
  },
  {
   "cell_type": "markdown",
   "metadata": {},
   "source": [
    "## Step 1: Problem Analysis\n",
    "\n",
    "Inputs:\n",
    "\n",
    "Outputs:\n",
    "\n",
    "Algorithm (Steps in Program):\n",
    "\n",
    "\n"
   ]
  },
  {
   "cell_type": "code",
   "execution_count": null,
   "metadata": {
    "collapsed": true,
    "jupyter": {
     "outputs_hidden": true
    }
   },
   "outputs": [],
   "source": [
    "# Step 2: Write your code here\n"
   ]
  },
  {
   "cell_type": "markdown",
   "metadata": {},
   "source": [
    "## Step 3: Reflection\n",
    "\n",
    "Reflect upon your experience completing this assignment. This should be a personal narrative, in your own voice, and cite specifics relevant to the activity as to help the grader understand how you arrived at the code you submitted. Things to consider touching upon: Elaborate on the process itself. Did your original problem analysis work as designed?  How many iterations did you go through before you arrived at the solution? Where did you struggle along the way and how did you overcome it? What did you learn from completing the assignment? What do you need to work on to get better? What was most valuable and least valuable about this exercise? Do you have any suggestions for improvements?\n",
    "\n",
    "To make a good reflection, you should journal your thoughts, questions and comments while you complete the exercise.\n",
    "\n",
    "Keep your response to between 100 and 250 words.\n",
    "\n",
    "`--== Write Your Reflection Below Here ==--`\n"
   ]
  },
  {
   "cell_type": "code",
   "execution_count": null,
   "metadata": {},
   "outputs": [],
   "source": [
    "# RUN THIS CODE CELL TO TURN IN YOUR WORK!\n",
    "from ist256.submission import Submission\n",
    "Submission().submit()"
   ]
  }
 ],
 "metadata": {
  "anaconda-cloud": {},
  "kernelspec": {
   "display_name": "Python 3",
   "language": "python",
   "name": "python3"
  },
  "language_info": {
   "codemirror_mode": {
    "name": "ipython",
    "version": 3
   },
   "file_extension": ".py",
   "mimetype": "text/x-python",
   "name": "python",
   "nbconvert_exporter": "python",
   "pygments_lexer": "ipython3",
   "version": "3.8.2"
  },
  "toc": {
   "base_numbering": 1,
   "nav_menu": {},
   "number_sections": false,
   "sideBar": false,
   "skip_h1_title": false,
   "title_cell": "Table of Contents",
   "title_sidebar": "Contents",
   "toc_cell": false,
   "toc_position": {},
   "toc_section_display": false,
   "toc_window_display": false
  }
 },
 "nbformat": 4,
 "nbformat_minor": 4
}
