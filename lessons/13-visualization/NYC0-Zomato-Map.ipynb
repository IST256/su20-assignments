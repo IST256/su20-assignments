{
 "cells": [
  {
   "cell_type": "markdown",
   "metadata": {},
   "source": [
    "## Now You Code In Class: Where Can I Get Something to Eat in Syracuse?\n",
    "\n",
    "Let's write an application which uses the Zomato api https://developers.zomato.com/api to provide access to local area restaurants.\n",
    "\n",
    "The basic gist of the application will be:\n",
    "\n",
    "1. ask for the type of cuisine you are interested in\n",
    "2. plot the places to get food on a map with names and ratings\n",
    "\n",
    "\n",
    "You should try to implement the following function. I suggest taking a **bottom-up problem solving approach**, first writing the function, testing it, and then finally using them in the main program. Remember good functions should do one thing well and have data inputs and outputs. They should be immutable, meaning the function does not change data but instead it returns the data back to the caller.\n",
    "\n",
    "```\n",
    "def search_area(zomato_key, city_id, keywords):\n",
    "    '''\n",
    "        returns a list of restaurants in the city_id matching keywords\n",
    "        return on success: {'status' : 'ok', 'message' : 'ok', 'restaurants' : restaurants }\n",
    "        return on failure: {'status' : 'error', 'message' : 'Reason for failure.', 'restaurants' : None }\n",
    "    '''\n",
    "```\n",
    "\n"
   ]
  },
  {
   "cell_type": "markdown",
   "metadata": {},
   "source": [
    "## Step 1: Problem Analysis\n",
    "\n",
    "Inputs:\n",
    "\n",
    "Outputs:\n",
    "\n",
    "Algorithm (Steps in Program):\n"
   ]
  },
  {
   "cell_type": "code",
   "execution_count": null,
   "metadata": {
    "scrolled": false
   },
   "outputs": [],
   "source": [
    "import folium\n",
    "import requests\n",
    "from IPython.display import display\n",
    "\n",
    "zomato_key = 'putYourKeyHere'\n",
    "city_id = 988   #city_id of Syracuse, New York')  \n",
    "\n",
    "   \n",
    "\n",
    "def search_area(zomato_key, city_id, keywords):\n",
    "    '''\n",
    "        returns a list of restaurants in the city_id matching keywords\n",
    "        return on success: {'status' : 'ok', 'message' : 'ok', 'restaurants' : restaurants }\n",
    "        return on failure: {'status' : 'error', 'message' : 'Reason for failure.', 'restaurants' : None }\n",
    "    '''\n",
    "    # TODO\n",
    "    \n",
    "    \n",
    "\n"
   ]
  }
 ],
 "metadata": {
  "anaconda-cloud": {},
  "kernelspec": {
   "display_name": "Python 3",
   "language": "python",
   "name": "python3"
  },
  "language_info": {
   "codemirror_mode": {
    "name": "ipython",
    "version": 3
   },
   "file_extension": ".py",
   "mimetype": "text/x-python",
   "name": "python",
   "nbconvert_exporter": "python",
   "pygments_lexer": "ipython3",
   "version": "3.6.6"
  },
  "toc": {
   "base_numbering": 1,
   "nav_menu": {},
   "number_sections": false,
   "sideBar": false,
   "skip_h1_title": false,
   "title_cell": "Table of Contents",
   "title_sidebar": "Contents",
   "toc_cell": false,
   "toc_position": {},
   "toc_section_display": false,
   "toc_window_display": false
  }
 },
 "nbformat": 4,
 "nbformat_minor": 1
}
