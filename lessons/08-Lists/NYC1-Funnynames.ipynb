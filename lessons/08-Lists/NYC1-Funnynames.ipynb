{
 "cells": [
  {
   "cell_type": "markdown",
   "metadata": {},
   "source": [
    "# Now You Code 1: Funny Names\n",
    "\n",
    "Write a program to \n",
    "\n",
    " 1. read the file `NYC1-funnynames.txt` into a list, by completing the provided user-defined function\n",
    " 2. sort the list of names\n",
    " 3. print the list of names one name per line.\n",
    "\n",
    "Sample Program Output:\n",
    "```\n",
    "Alma Frienzergon\n",
    "Kent Belevit\n",
    "Mitch Again\n",
    "Oliver Stuffismisson\n",
    "Sandi Shores\n",
    "Sarah Bellum\n",
    "Willie Pas-D'course\n",
    "Yolanda Ismyland\n",
    "```\n"
   ]
  },
  {
   "cell_type": "markdown",
   "metadata": {},
   "source": [
    "## Step 1: Problem Analysis for `read_names` user-defined function\n",
    "\n",
    "Inputs: None\n",
    "\n",
    "Outputs: a list of names\n",
    "\n",
    "Algorithm (Steps in Program):\n",
    "    \n",
    "    \n",
    "\n"
   ]
  },
  {
   "cell_type": "code",
   "execution_count": null,
   "metadata": {},
   "outputs": [],
   "source": [
    "# Step 2: write function\n",
    "# this function reads from \"NYC-funnynames.txt\" places the names in a list.\n",
    "# program should return a list of names\n",
    "def read_names():\n",
    "    names = []\n",
    "    #todo write code here\n"
   ]
  },
  {
   "cell_type": "markdown",
   "metadata": {
    "collapsed": true
   },
   "source": [
    "## Step 3: Problem Analysis for entire program\n",
    "\n",
    "Inputs:\n",
    "\n",
    "Outputs:\n",
    "\n",
    "Algorithm (Steps in Program):\n",
    "\n"
   ]
  },
  {
   "cell_type": "code",
   "execution_count": 2,
   "metadata": {
    "collapsed": true
   },
   "outputs": [],
   "source": [
    "## Step 4: write entire program making sure to use read_names \n"
   ]
  },
  {
   "cell_type": "markdown",
   "metadata": {},
   "source": [
    "## Step 5: Questions\n",
    "\n",
    "1. Does writing the `read_names` function clarify the intent of the main program in step 4? Why or why not?\n",
    "\n",
    "Answer: \n",
    "\n",
    "\n",
    "2. Find the `NYC-funnynames.txt` file in your `lessons/09` folder. Open the file and add the name `Euron Trouble` to the file, then save and close it. Re-run the program in step 4. Do you see the new name in the program output? Explain why or why not? \n",
    "\n",
    "Answer:\n",
    "\n"
   ]
  },
  {
   "cell_type": "markdown",
   "metadata": {},
   "source": [
    "## Step 6: Reflection\n",
    "\n",
    "Reflect upon your experience completing this assignment. This should be a personal narrative, in your own voice, and cite specifics relevant to the activity as to help the grader understand how you arrived at the code you submitted. Things to consider touching upon: Elaborate on the process itself. Did your original problem analysis work as designed?  How many iterations did you go through before you arrived at the solution? Where did you struggle along the way and how did you overcome it? What did you learn from completing the assignment? What do you need to work on to get better? What was most valuable and least valuable about this exercise? Do you have any suggestions for improvements?\n",
    "\n",
    "To make a good reflection, you should journal your thoughts, questions and comments while you complete the exercise.\n",
    "\n",
    "Keep your response to between 100 and 250 words.\n",
    "\n",
    "`--== Write Your Reflection Below Here ==--`\n",
    "\n"
   ]
  }
 ],
 "metadata": {
  "anaconda-cloud": {},
  "kernelspec": {
   "display_name": "Python 3",
   "language": "python",
   "name": "python3"
  },
  "language_info": {
   "codemirror_mode": {
    "name": "ipython",
    "version": 3
   },
   "file_extension": ".py",
   "mimetype": "text/x-python",
   "name": "python",
   "nbconvert_exporter": "python",
   "pygments_lexer": "ipython3",
   "version": "3.6.6"
  },
  "toc": {
   "base_numbering": 1,
   "nav_menu": {},
   "number_sections": false,
   "sideBar": false,
   "skip_h1_title": false,
   "title_cell": "Table of Contents",
   "title_sidebar": "Contents",
   "toc_cell": false,
   "toc_position": {},
   "toc_section_display": false,
   "toc_window_display": false
  }
 },
 "nbformat": 4,
 "nbformat_minor": 1
}
