{
 "cells": [
  {
   "cell_type": "markdown",
   "metadata": {},
   "source": [
    "# Now You Code 3: List of numbers\n",
    "\n",
    "This example will demonstrate how to parse an input string into\n",
    "a list of numbers. You will then demonstrate it's a list of\n",
    "numbers by calculating the count, sum(), min(), max() and average\n",
    "of the numbers using Python's len(), sum(), min(), and max() functions.\n",
    "\n",
    "Example Run #1:\n",
    "```\n",
    "    Enter numbers separated by a space: 10 5 0\n",
    "\n",
    "    Numbers: [10.0, 5.0, 0.0]\n",
    "    Count: 3\n",
    "    Min: 0.0\n",
    "    Max: 10.0\n",
    "    Sum: 15.0\n",
    "    Average: 5.0\n",
    "```\n",
    "\n",
    "As usual, devise your plan, write the program, THEN figure out how to handle bad input in Example run #2.\n",
    "\n",
    "HINT: Use split() to make a list from the input, use a loop to convert\n",
    "each item in the list to a float\n",
    "\n",
    "Start out your program by writing your TODO list of steps\n",
    "you'll need to solve the problem!"
   ]
  },
  {
   "cell_type": "markdown",
   "metadata": {
    "collapsed": true
   },
   "source": [
    "## Step 1: Problem Analysis\n",
    "\n",
    "Inputs: a string of numbers separated by a space eg. `10 5 1`\n",
    "\n",
    "Outputs: the count, sum, min, max and average of the numbers\n",
    "\n",
    "Algorithm (Steps in Program):\n",
    "\n",
    "```\n",
    "TODO: Write algorithm here\n",
    "```\n",
    "\n"
   ]
  },
  {
   "cell_type": "code",
   "execution_count": 1,
   "metadata": {},
   "outputs": [],
   "source": [
    "# Step 2: Write solution\n",
    "numbers = [] # start with an empty list\n",
    "\n"
   ]
  },
  {
   "cell_type": "markdown",
   "metadata": {},
   "source": [
    "## Step 3: Questions\n",
    "\n",
    "1. Re-write the solution so that it handles bad input (place in a new cell):\n",
    "\n",
    "Example Run #2: (Handles bad input)\n",
    "```\n",
    "    Enter numbers separated by a space: 5 mike 3\n",
    "\n",
    "    Error: mike is not a number!\n",
    "```\n",
    "\n",
    "2. Explain which part of the solution could be refactored into a function? \n",
    "\n",
    "Answer:\n",
    "\n",
    "3. What would be be the input(s) and output of that function?\n",
    "\n",
    "Answer:\n"
   ]
  },
  {
   "cell_type": "markdown",
   "metadata": {},
   "source": [
    "## Step 4: Reflection\n",
    "\n",
    "Reflect upon your experience completing this assignment. This should be a personal narrative, in your own voice, and cite specifics relevant to the activity as to help the grader understand how you arrived at the code you submitted. Things to consider touching upon: Elaborate on the process itself. Did your original problem analysis work as designed?  How many iterations did you go through before you arrived at the solution? Where did you struggle along the way and how did you overcome it? What did you learn from completing the assignment? What do you need to work on to get better? What was most valuable and least valuable about this exercise? Do you have any suggestions for improvements?\n",
    "\n",
    "To make a good reflection, you should journal your thoughts, questions and comments while you complete the exercise.\n",
    "\n",
    "Keep your response to between 100 and 250 words.\n",
    "\n",
    "`--== Write Your Reflection Below Here ==--`\n",
    "\n"
   ]
  }
 ],
 "metadata": {
  "anaconda-cloud": {},
  "kernelspec": {
   "display_name": "Python 3",
   "language": "python",
   "name": "python3"
  },
  "language_info": {
   "codemirror_mode": {
    "name": "ipython",
    "version": 3
   },
   "file_extension": ".py",
   "mimetype": "text/x-python",
   "name": "python",
   "nbconvert_exporter": "python",
   "pygments_lexer": "ipython3",
   "version": "3.6.6"
  },
  "toc": {
   "base_numbering": 1,
   "nav_menu": {},
   "number_sections": false,
   "sideBar": false,
   "skip_h1_title": false,
   "title_cell": "Table of Contents",
   "title_sidebar": "Contents",
   "toc_cell": false,
   "toc_position": {},
   "toc_section_display": false,
   "toc_window_display": false
  }
 },
 "nbformat": 4,
 "nbformat_minor": 1
}
