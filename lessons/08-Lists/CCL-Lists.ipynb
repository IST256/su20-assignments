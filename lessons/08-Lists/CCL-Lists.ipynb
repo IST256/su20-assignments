{
 "cells": [
  {
   "cell_type": "markdown",
   "metadata": {},
   "source": [
    "# In-Class Coding Lab: Lists\n",
    "\n",
    "The goals of this lab are to help you understand:\n",
    "\n",
    " - List indexing and slicing\n",
    " - List methods such as insert, append, find, delete\n",
    " - How to iterate over lists with loops\n",
    " \n",
    "## Python Lists work like Real-Life Lists\n",
    " \n",
    "In real life, we make lists all the time. To-Do lists. Shopping lists. Reading lists.  These lists are collections of items, for example here's my shopping list:\n",
    " \n",
    " ```\n",
    " Milk, Eggs, Bread, Beer\n",
    " ```\n",
    "\n",
    "There are 4 items in this list.\n",
    "\n",
    "Likewise, we can make a similar list in Python, and count the number of items in the list using the `len()` function:"
   ]
  },
  {
   "cell_type": "code",
   "execution_count": null,
   "metadata": {},
   "outputs": [],
   "source": [
    "shopping_list = [ 'Milk', 'Eggs', 'Bread', 'Beer']\n",
    "item_count = len(shopping_list)\n",
    "print(\"List: %s has %d items\" % (shopping_list, item_count))"
   ]
  },
  {
   "cell_type": "markdown",
   "metadata": {},
   "source": [
    "## Enumerating Your List Items\n",
    "\n",
    "In real-life, we *enumerate* lists all the time. We go through the items on our list one at a time and make a decision, for example: \"Did I add that to my shopping cart yet?\"\n",
    "\n",
    "In Python we go through items in our lists with the `for` loop. We use `for` because the number of items is pre-determined and thus a **definite** loop is the appropriate choice. \n",
    "\n",
    "Here's an example:"
   ]
  },
  {
   "cell_type": "code",
   "execution_count": null,
   "metadata": {},
   "outputs": [],
   "source": [
    "for item in shopping_list:\n",
    "    print(\"I need to buy some %s \" % (item))"
   ]
  },
  {
   "cell_type": "code",
   "execution_count": null,
   "metadata": {},
   "outputs": [],
   "source": [
    "# or with f-strings\n",
    "for item in shopping_list:\n",
    "    print(f\"I need to buy some {item}\")"
   ]
  },
  {
   "cell_type": "markdown",
   "metadata": {},
   "source": [
    "## Now You Try It!\n",
    "\n",
    "Write code in the space below to print each stock on its own line."
   ]
  },
  {
   "cell_type": "code",
   "execution_count": null,
   "metadata": {},
   "outputs": [],
   "source": [
    "stocks = [ 'IBM', 'AAPL', 'GOOG', 'MSFT', 'TWTR', 'FB']\n",
    "#TODO: Write code here\n"
   ]
  },
  {
   "cell_type": "markdown",
   "metadata": {},
   "source": [
    "## Indexing Lists\n",
    "\n",
    "Sometimes we refer to our items by their place in the list. For example \"Milk is the first item on the list\" or \"Beer is the last item on the list.\"\n",
    "\n",
    "We can also do this in Python, and it is called *indexing* the list. \n",
    "\n",
    "**IMPORTANT** The first item in a Python lists starts at index **0**."
   ]
  },
  {
   "cell_type": "code",
   "execution_count": null,
   "metadata": {},
   "outputs": [],
   "source": [
    "print(\"The first item in the list is:\", shopping_list[0]) \n",
    "print(\"The last item in the list is:\", shopping_list[3])   \n",
    "print(\"This is also the last item in the list:\", shopping_list[-1])  \n",
    "print(\"This is the second to last item in the list:\", shopping_list[-2])\n"
   ]
  },
  {
   "cell_type": "markdown",
   "metadata": {},
   "source": [
    "## For Loop with Index\n",
    "\n",
    "You can also loop through your Python list using an index. In this case we use the `range()` function to determine how many times we should loop:"
   ]
  },
  {
   "cell_type": "code",
   "execution_count": null,
   "metadata": {},
   "outputs": [],
   "source": [
    "for i in range(len(shopping_list)):\n",
    "    print(\"I need to buy some %s \" % (shopping_list[i]))"
   ]
  },
  {
   "cell_type": "markdown",
   "metadata": {},
   "source": [
    "## Now You Try It!\n",
    "\n",
    "Write code to print the 2nd and 4th stocks in the list variable `stocks`. For example:\n",
    "\n",
    "`AAPL MSFT`"
   ]
  },
  {
   "cell_type": "code",
   "execution_count": null,
   "metadata": {},
   "outputs": [],
   "source": [
    "#TODO: Write code here\n",
    "\n"
   ]
  },
  {
   "cell_type": "markdown",
   "metadata": {},
   "source": [
    "## Lists are Mutable\n",
    "\n",
    "Unlike strings, lists are mutable. This means we can change a value in the list.\n",
    "\n",
    "For example, I want `'Craft Beer'` not just `'Beer'`:"
   ]
  },
  {
   "cell_type": "code",
   "execution_count": null,
   "metadata": {},
   "outputs": [],
   "source": [
    "print(shopping_list)\n",
    "shopping_list[-1] = 'Craft Beer'\n",
    "print(shopping_list)"
   ]
  },
  {
   "cell_type": "markdown",
   "metadata": {},
   "source": [
    "## List Methods\n",
    "\n",
    "In your readings and class lecture, you encountered some list methods. These allow us to maniupulate the list by adding or removing items."
   ]
  },
  {
   "cell_type": "code",
   "execution_count": null,
   "metadata": {},
   "outputs": [],
   "source": [
    "print(\"Shopping List: %s\" %(shopping_list))\n",
    "\n",
    "print(\"Adding 'Cheese' to the end of the list...\")\n",
    "shopping_list.append('Cheese')  #add to end of list\n",
    "print(\"Shopping List: %s\" %(shopping_list))\n",
    "\n",
    "print(\"Adding 'Cereal' to position 0  in the list...\")\n",
    "shopping_list.insert(0,'Cereal') # add to the beginning of the list (position 0)\n",
    "print(\"Shopping List: %s\" %(shopping_list))\n",
    "\n",
    "print(\"Removing 'Cheese' from the list...\")\n",
    "shopping_list.remove('Cheese')  # remove 'Cheese' from the list\n",
    "print(\"Shopping List: %s\" %(shopping_list))\n",
    "\n",
    "print(\"Removing item from position 0 in the list...\")\n",
    "del shopping_list[0]   # remove item at position 0\n",
    "print(\"Shopping List: %s\" %(shopping_list))\n"
   ]
  },
  {
   "cell_type": "markdown",
   "metadata": {},
   "source": [
    "## Now You Try It!\n",
    "\n",
    "Write a program to remove the following stocks: `IBM` and `TWTR`\n",
    "\n",
    "Then add this stock to the end `NFLX` and this stock to the beginning `TSLA`\n",
    "\n",
    "Print your list when you are done. It should look like this:\n",
    "\n",
    "`['TSLA', 'AAPL', 'GOOG', 'MSFT', 'FB', 'NFLX']`\n"
   ]
  },
  {
   "cell_type": "code",
   "execution_count": null,
   "metadata": {},
   "outputs": [],
   "source": [
    "# TODO: Write Code here\n"
   ]
  },
  {
   "cell_type": "markdown",
   "metadata": {},
   "source": [
    "## Sorting\n",
    "\n",
    "Since Lists are mutable. You can use the `sort()` method to re-arrange the items in the list alphabetically (or numerically if it's a list of numbers)"
   ]
  },
  {
   "cell_type": "code",
   "execution_count": null,
   "metadata": {},
   "outputs": [],
   "source": [
    "print(\"Before Sort:\", shopping_list)\n",
    "shopping_list.sort() \n",
    "print(\"After Sort:\", shopping_list)"
   ]
  },
  {
   "cell_type": "markdown",
   "metadata": {},
   "source": [
    "# Putting it all together\n",
    "\n",
    "Winning Lotto numbers. When the lotto numbers are drawn, they are in any order, when they are presented they're allways sorted. Let's write a program to input 5 numbers then output them sorted\n",
    "\n",
    "```\n",
    "1. for i in range(5)\n",
    "2.    input a number\n",
    "3.    append the number you input to the lotto_numbers list\n",
    "4. sort the lotto_numbers list\n",
    "5. print the lotto_numbers list like this: \n",
    "   'today's winning numbers are [1, 5, 17, 34, 56]'\n",
    "```"
   ]
  },
  {
   "cell_type": "code",
   "execution_count": null,
   "metadata": {},
   "outputs": [],
   "source": [
    "## TODO: Write program here:\n",
    "\n",
    "lotto_numbers = []  # start with an empty list\n"
   ]
  },
  {
   "cell_type": "markdown",
   "metadata": {},
   "source": [
    "## Metacognition\n",
    "\n",
    "Please answer the following questions. This should be a personal narrative, in your own voice. Answer the questions by double clicking on the question and placing your answer next to the Answer: prompt.\n",
    "\n",
    "### Questions\n",
    "\n",
    "1. Record any questions you have about this lab that you would like to ask in recitation. It is expected you will have questions if you did not complete the code sections correctly.  Learning how to articulate what you do not understand is an important skill of critical thinking. \n",
    "\n",
    "Answer: \n",
    "\n",
    "2. What was the most difficult aspect of completing this lab? Least difficult?  \n",
    "\n",
    "Answer: \n",
    "\n",
    "3. What aspects of this lab do you find most valuable? Least valuable?\n",
    "\n",
    "Answer: \n",
    "\n",
    "4. Rate your comfort level with this week's material so far.   \n",
    "\n",
    "1 ==> I can do this on my own and explain how to do it.   \n",
    "2 ==> I can do this on my own without any help.   \n",
    "3 ==> I can do this with help or guidance from others. If you choose this level please list those who helped you.   \n",
    "4 ==> I don't understand this at all yet and need extra help. If you choose this please try to articulate that which you do not understand.   \n",
    "\n",
    "Answer: \n",
    "\n"
   ]
  },
  {
   "cell_type": "code",
   "execution_count": null,
   "metadata": {},
   "outputs": [],
   "source": [
    "# RUN THIS CODE CELL TO TURN IN YOUR WORK!\n",
    "from ist256.submission import Submission\n",
    "Submission().submit()"
   ]
  }
 ],
 "metadata": {
  "anaconda-cloud": {},
  "kernelspec": {
   "display_name": "Python 3",
   "language": "python",
   "name": "python3"
  },
  "language_info": {
   "codemirror_mode": {
    "name": "ipython",
    "version": 3
   },
   "file_extension": ".py",
   "mimetype": "text/x-python",
   "name": "python",
   "nbconvert_exporter": "python",
   "pygments_lexer": "ipython3",
   "version": "3.8.2"
  },
  "toc": {
   "base_numbering": 1,
   "nav_menu": {},
   "number_sections": false,
   "sideBar": false,
   "skip_h1_title": false,
   "title_cell": "Table of Contents",
   "title_sidebar": "Contents",
   "toc_cell": false,
   "toc_position": {},
   "toc_section_display": false,
   "toc_window_display": false
  }
 },
 "nbformat": 4,
 "nbformat_minor": 4
}
