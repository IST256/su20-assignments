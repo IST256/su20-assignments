{
 "cells": [
  {
   "cell_type": "markdown",
   "metadata": {},
   "source": [
    "# Now You Code In Class: Beer Calories 2.0\n",
    "\n",
    "Let's improve the Beer Calories program from the previous unit. The data file is called `NYC0-beer-calories.txt`\n",
    "\n",
    "Load the beer names and calories into two lists respectively. Use two more lists to keep track of the beers you drank and calories consumed.\n",
    "\n",
    "Then write a program which:\n",
    "\n",
    "loops until you enter 'quit' each time recording the name of the beer and its calories in the consumed lists.\n",
    "\n",
    "After you type quit print out all the beers you drank and the total calories. \n",
    "\n",
    "\n",
    "Sample run :\n",
    "\n",
    "```\n",
    "This program will tell you the total calories of the beers you drank.\n",
    "\n",
    "Enter the beer you drank, or type quit: Budweiser\n",
    "- Added Budweiser with 145.0 to your drink list.\n",
    "Enter the beer you drank, or type quit: Miller Light\n",
    "- Beer named Miller Light is not in the list.\n",
    "Enter the beer you drank, or type quit: Miller Lite\n",
    "- Added Miller Lite with 96.0 to your drink list.\n",
    "Enter the beer you drank, or type quit: quit\n",
    "\n",
    "You drank 2 beers.\n",
    "Beers you drank:\n",
    "- Budweiser\n",
    "- Miller Lite\n",
    "Total calories consumed: 241.0\n",
    "```\n"
   ]
  },
  {
   "cell_type": "markdown",
   "metadata": {},
   "source": [
    "## Step 1: Problem Analysis for `read_names` user-defined function\n",
    "\n",
    "Inputs: None\n",
    "\n",
    "Outputs: a list of names\n",
    "\n",
    "Algorithm (Steps in Program):\n",
    "    \n",
    "    \n",
    "\n"
   ]
  },
  {
   "cell_type": "code",
   "execution_count": 7,
   "metadata": {},
   "outputs": [],
   "source": [
    "beers = []\n",
    "calories = []\n",
    "your_beers = []\n",
    "your_calories = []\n",
    "file = 'NYC0-beer-calories.txt'\n",
    "\n",
    "# TODO Write code here\n",
    "\n"
   ]
  }
 ],
 "metadata": {
  "anaconda-cloud": {},
  "kernelspec": {
   "display_name": "Python 3",
   "language": "python",
   "name": "python3"
  },
  "language_info": {
   "codemirror_mode": {
    "name": "ipython",
    "version": 3
   },
   "file_extension": ".py",
   "mimetype": "text/x-python",
   "name": "python",
   "nbconvert_exporter": "python",
   "pygments_lexer": "ipython3",
   "version": "3.6.6"
  },
  "toc": {
   "base_numbering": 1,
   "nav_menu": {},
   "number_sections": false,
   "sideBar": false,
   "skip_h1_title": false,
   "title_cell": "Table of Contents",
   "title_sidebar": "Contents",
   "toc_cell": false,
   "toc_position": {},
   "toc_section_display": false,
   "toc_window_display": false
  }
 },
 "nbformat": 4,
 "nbformat_minor": 1
}
