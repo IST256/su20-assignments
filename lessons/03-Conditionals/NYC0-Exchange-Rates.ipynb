{
 "cells": [
  {
   "cell_type": "markdown",
   "metadata": {},
   "source": [
    "# Now You Code In Class: Exchange Rates\n",
    "\n",
    "You have been tasked with writing a program to help employees of a travel company convert currency.\n",
    "\n",
    "The company travels to the following places. Next to the place is the exchange rate.\n",
    "\n",
    "- Europe:  1 US Dollar == 0.9 Euro\n",
    "- China: 1 US Dollar == 7.2 Chineese Yuan\n",
    "- Russia: 1 US Dollar == 64.2 Russian Ruble\n",
    "\n",
    "You should write a program to input the amount of currency in US Dollars, and then input the place (either Europe, China, or Russia). \n",
    "\n",
    "The program should then output the appropriate amount of exchanged currency. \n",
    "\n",
    "Example Run 1:\n",
    "\n",
    "```\n",
    "Enter the amount of Currency in US Dollars: $100\n",
    "Enter the place you are travelling: Europe, China or Russia? China\n",
    "\n",
    "$100.00 US Dollars is $720.00 Chineese Yuan\n",
    "\n",
    "```\n"
   ]
  },
  {
   "cell_type": "markdown",
   "metadata": {
    "collapsed": true
   },
   "source": [
    "## Step 1: Problem Analysis\n",
    "\n",
    "Inputs:\n",
    "\n",
    "Outputs:\n",
    "\n",
    "Algorithm (Steps in Program):\n",
    "\n"
   ]
  },
  {
   "cell_type": "code",
   "execution_count": 1,
   "metadata": {},
   "outputs": [],
   "source": [
    "# Step 2: Write code here\n",
    "\n"
   ]
  },
  {
   "cell_type": "markdown",
   "metadata": {
    "collapsed": true
   },
   "source": [
    "## Part Two\n",
    "\n",
    "After you get that working, re-write the program to account for bad input, such as the case where you enter a non-numerical value for US Dollars, or when you enter a place other than the three accepted locations.\n",
    "\n",
    "Example Run 2:\n",
    "\n",
    "```\n",
    "Enter the amount of Currency in US Dollars: A hundo\n",
    "\n",
    "'A Hundo' is not a valid amount!\n",
    "\n",
    "```\n",
    "\n",
    "Example Run 2:\n",
    "\n",
    "```\n",
    "Enter the amount of Currency in US Dollars: $100\n",
    "Enter the place you are travelling: Europe, China or Russia? Canada\n",
    "\n",
    "Sorry. You cannot travel to 'Canada' at this time\n",
    "\n",
    "```\n"
   ]
  },
  {
   "cell_type": "code",
   "execution_count": null,
   "metadata": {},
   "outputs": [],
   "source": [
    "# Part 2: Write entire solution here\n"
   ]
  }
 ],
 "metadata": {
  "anaconda-cloud": {},
  "kernelspec": {
   "display_name": "Python 3",
   "language": "python",
   "name": "python3"
  },
  "language_info": {
   "codemirror_mode": {
    "name": "ipython",
    "version": 3
   },
   "file_extension": ".py",
   "mimetype": "text/x-python",
   "name": "python",
   "nbconvert_exporter": "python",
   "pygments_lexer": "ipython3",
   "version": "3.6.6"
  },
  "toc": {
   "base_numbering": 1,
   "nav_menu": {},
   "number_sections": false,
   "sideBar": false,
   "skip_h1_title": false,
   "title_cell": "Table of Contents",
   "title_sidebar": "Contents",
   "toc_cell": false,
   "toc_position": {},
   "toc_section_display": false,
   "toc_window_display": false
  }
 },
 "nbformat": 4,
 "nbformat_minor": 1
}
