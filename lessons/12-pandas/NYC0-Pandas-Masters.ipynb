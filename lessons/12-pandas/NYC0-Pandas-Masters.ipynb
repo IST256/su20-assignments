{
 "cells": [
  {
   "cell_type": "markdown",
   "metadata": {},
   "source": [
    "# Now You Code In Class: Tricks of The Pandas Masters\n",
    "\n",
    "For this Now You Code, you will need the Zomato api https://developers.zomato.com/api which provides API access to local area restaurants information.\n"
   ]
  },
  {
   "cell_type": "code",
   "execution_count": 2,
   "metadata": {},
   "outputs": [],
   "source": [
    "import pandas as pd\n",
    "import requests\n",
    "\n",
    "zomato_key = 'putYourKeyHere'\n",
    "cuse_id = 988   #city_id of Syracuse, New York'  "
   ]
  },
  {
   "cell_type": "markdown",
   "metadata": {
    "collapsed": true,
    "slideshow": {
     "slide_type": "slide"
    }
   },
   "source": [
    "## Challenge 1\n",
    "\n",
    "1. figure out how to call the zomato api by getting a list of categories. store the output in the variable `data`\n",
    "\n",
    "https://developers.zomato.com/documentation#!/common/categories\n",
    "\n",
    "HINT: The `user-key` must be passed in the header."
   ]
  },
  {
   "cell_type": "code",
   "execution_count": null,
   "metadata": {},
   "outputs": [],
   "source": []
  },
  {
   "cell_type": "markdown",
   "metadata": {},
   "source": [
    "## Challenge 2\n",
    "\n",
    "1. Load the categories into a dataframe. using the `pd.DataFrame()` method. Start with the list at `data['categories']`. If it works you will have a single column called `categories`, which will contain nested json.\n",
    "\n",
    "NOTE: it will load into a dataframe but there will be nested json. We will fix this in the next step"
   ]
  },
  {
   "cell_type": "code",
   "execution_count": null,
   "metadata": {},
   "outputs": [],
   "source": []
  },
  {
   "cell_type": "markdown",
   "metadata": {},
   "source": [
    "## Challenge 3\n",
    "\n",
    "1. Let's re-write this code so that we first flatten the json data into a simple structure before loading it into the data frame. Your dataframe should have `categories.id` and `cateogries.name` columns if you completed this correctly.\n",
    "\n",
    "NOTE: read this: https://pandas.pydata.org/pandas-docs/stable/reference/api/pandas.io.json.json_normalize.html"
   ]
  },
  {
   "cell_type": "code",
   "execution_count": null,
   "metadata": {},
   "outputs": [],
   "source": []
  },
  {
   "cell_type": "markdown",
   "metadata": {},
   "source": [
    "## Challenge 4\n",
    "\n",
    "Put it all together\n",
    "\n",
    "1. Call the restaurant search API https://developers.zomato.com/documentation#!/restaurant/search to get the details for `sushi` restaurants in the Syracuse area (use the `city_id` provided).\n",
    "2. Flatten the data into a data frame\n",
    "\n",
    "NOTE: read the reviews are not flattened because they are not included in the free version of the api."
   ]
  },
  {
   "cell_type": "code",
   "execution_count": null,
   "metadata": {},
   "outputs": [],
   "source": []
  },
  {
   "cell_type": "markdown",
   "metadata": {},
   "source": [
    "## Challenge 5\n",
    "\n",
    "Convert your dataframe back into a list of dict.\n",
    "\n",
    "1. use `to_records()` to convert the dataframe  into a `list` of `dict`.\n",
    "2. loop over the rows and print the restaurant name and aggregate rating for only those rows with a rating higher that 3.5\n",
    "\n",
    "NOTE: The keys match he columns in the data frame. The data is not un-flattened.\n"
   ]
  },
  {
   "cell_type": "code",
   "execution_count": null,
   "metadata": {},
   "outputs": [],
   "source": []
  }
 ],
 "metadata": {
  "anaconda-cloud": {},
  "kernelspec": {
   "display_name": "Python 3",
   "language": "python",
   "name": "python3"
  },
  "language_info": {
   "codemirror_mode": {
    "name": "ipython",
    "version": 3
   },
   "file_extension": ".py",
   "mimetype": "text/x-python",
   "name": "python",
   "nbconvert_exporter": "python",
   "pygments_lexer": "ipython3",
   "version": "3.6.6"
  },
  "toc": {
   "base_numbering": 1,
   "nav_menu": {},
   "number_sections": false,
   "sideBar": false,
   "skip_h1_title": false,
   "title_cell": "Table of Contents",
   "title_sidebar": "Contents",
   "toc_cell": false,
   "toc_position": {},
   "toc_section_display": false,
   "toc_window_display": false
  }
 },
 "nbformat": 4,
 "nbformat_minor": 1
}
