{
 "cells": [
  {
   "cell_type": "markdown",
   "metadata": {},
   "source": [
    "## Now You Code 3: Pandas Darksky Maship\n",
    "\n",
    "### Load the 7 day forecast from into Pandas!\n",
    "\n",
    "This example will help you understand how to learn new services and mash them up into a working solution. \n",
    "\n",
    "The end goal is to input a location like Miami, Fl and then output the 7 day forecast in a Pandas Dataframe. \n",
    "\n",
    "Here's what you need:\n",
    "\n",
    "You need a weather API. You can use the https://openweathermap.org/ API from a previous class example, or https://www.weatherapi.com/ Your choice.\n",
    "\n",
    "You might need a geocoder. Rather than using the open street map API, why not try to use a Geocoding Python module instead? This will give you an example of how Python modules serve as wrappers to API's. I suggest trying  Python geocoder module for this: https://geocoder.readthedocs.io/ , specifically the Open Street Maps service. \n",
    "\n",
    "Your weather API will return the 7 Day forecast as a JSON, which can easily be de-serialized into a Python list of Dictionary. This can be loaded into Pandas trivially.\n",
    "\n",
    "Extract the forecast data and load it into Pandas, then display the Time of the forecast, and high and low temperatures:\n",
    "\n",
    "**HINT**: To get the times to show up in a human-readable format, you must convert the Weather's API time (which is in unix timestamp format) to a Pandas Timestamp date/time format. The `pd.to_datetime()` function can help you:\n",
    "\n",
    "\n",
    "```\n",
    "time = 1489402800 # this the time format Darksky returns\n",
    "readable_time = pd.to_datetime(time, unit='s') ## s stands for unix timestamp format\n",
    "readable_time\n",
    "\n",
    "Timestamp('2017-03-13 11:00:00')\n",
    "```\n",
    "\n",
    "Just replace the `['time']` column in the `DataFrame` with the new version."
   ]
  },
  {
   "cell_type": "markdown",
   "metadata": {},
   "source": [
    "## Step 1: Problem Analysis for entire program\n",
    "\n",
    "Inputs: \n",
    "\n",
    "Outputs:\n",
    "\n",
    "Algorithm (Steps in Program):\n"
   ]
  },
  {
   "cell_type": "code",
   "execution_count": null,
   "metadata": {
    "collapsed": true,
    "jupyter": {
     "outputs_hidden": true
    }
   },
   "outputs": [],
   "source": [
    "# STEP 2: Todo write code here\n",
    "\n"
   ]
  },
  {
   "cell_type": "markdown",
   "metadata": {},
   "source": [
    "## Step 3: Questions\n",
    "\n",
    "1. Pandas programs are different than typical Python programs. Explain the process you followed to achieve the solution?\n",
    "\n",
    "Answer:\n",
    "\n",
    "\n",
    "2. What was the most difficult aspect of this assignment? \n",
    "\n",
    "Answer:\n",
    "\n"
   ]
  },
  {
   "cell_type": "markdown",
   "metadata": {},
   "source": [
    "## Step 4: Reflection\n",
    "\n",
    "Reflect upon your experience completing this assignment. This should be a personal narrative, in your own voice, and cite specifics relevant to the activity as to help the grader understand how you arrived at the code you submitted. Things to consider touching upon: Elaborate on the process itself. Did your original problem analysis work as designed?  How many iterations did you go through before you arrived at the solution? Where did you struggle along the way and how did you overcome it? What did you learn from completing the assignment? What do you need to work on to get better? What was most valuable and least valuable about this exercise? Do you have any suggestions for improvements?\n",
    "\n",
    "To make a good reflection, you should journal your thoughts, questions and comments while you complete the exercise.\n",
    "\n",
    "Keep your response to between 100 and 250 words.\n",
    "\n",
    "`--== Write Your Reflection Below Here ==--`\n",
    "\n"
   ]
  },
  {
   "cell_type": "code",
   "execution_count": null,
   "metadata": {},
   "outputs": [],
   "source": [
    "# RUN THIS CODE CELL TO TURN IN YOUR WORK!\n",
    "from ist256.submission import Submission\n",
    "Submission().submit()"
   ]
  }
 ],
 "metadata": {
  "anaconda-cloud": {},
  "kernelspec": {
   "display_name": "Python 3",
   "language": "python",
   "name": "python3"
  },
  "language_info": {
   "codemirror_mode": {
    "name": "ipython",
    "version": 3
   },
   "file_extension": ".py",
   "mimetype": "text/x-python",
   "name": "python",
   "nbconvert_exporter": "python",
   "pygments_lexer": "ipython3",
   "version": "3.8.2"
  },
  "toc": {
   "base_numbering": 1,
   "nav_menu": {},
   "number_sections": false,
   "sideBar": false,
   "skip_h1_title": false,
   "title_cell": "Table of Contents",
   "title_sidebar": "Contents",
   "toc_cell": false,
   "toc_position": {},
   "toc_section_display": false,
   "toc_window_display": false
  }
 },
 "nbformat": 4,
 "nbformat_minor": 4
}
