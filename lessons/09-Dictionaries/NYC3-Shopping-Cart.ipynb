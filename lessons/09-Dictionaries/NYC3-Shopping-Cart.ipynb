{
 "cells": [
  {
   "cell_type": "markdown",
   "metadata": {},
   "source": [
    "# Now You Code 3: Shopping Cart\n",
    "\n",
    "In this program you will implement an online shopping cart using a Python list of dictionary. The dictionary will contain the product name, price and quantity. \n",
    "\n",
    "\n",
    "The program should loop continually,  asking the user to enter \n",
    " - Product name\n",
    " - Product price\n",
    " - Product quantity\n",
    "\n",
    "until the user enters a product name of `'checkout'` at which time the loop should break.\n",
    "\n",
    "Each time through the loop you should create a dictionary of product name, product price and product quantity then add the dictionary to a list.\n",
    "\n",
    "After you enter `'checkout'`  the program should show:\n",
    "\n",
    " - all the items in the cart, including their quantity and price\n",
    " - and the total amount of the order, a running sum of quantity times price\n",
    "\n",
    "NOTE: Don't worry about handling bad inputs for this exercise.\n",
    "\n",
    "Example Run:\n",
    "\n",
    "```\n",
    "E-Commerce Shopping Cart\n",
    "Enter product name or 'checkout':pencil\n",
    "Enter pencil Price:0.99\n",
    "Enter pencil Quantity:10\n",
    "Enter product name or 'checkout':calculator\n",
    "Enter calculator Price:9.99\n",
    "Enter calculator Quantity:1\n",
    "Enter product name or 'checkout':checkout\n",
    "pencil 10 $0.99\n",
    "calculator 1 $9.99\n",
    "TOTAL: $19.89\n",
    "```\n",
    "\n",
    "Start out your program by writing your TODO list of steps you'll need to solve the problem!"
   ]
  },
  {
   "cell_type": "markdown",
   "metadata": {},
   "source": [
    "## Step 1: Problem Analysis\n",
    "\n",
    "Inputs:\n",
    "\n",
    "Outputs:\n",
    "\n",
    "Algorithm (Steps in Program):\n",
    "\n",
    "```\n",
    "write algorithm here\n",
    "```\n"
   ]
  },
  {
   "cell_type": "code",
   "execution_count": 2,
   "metadata": {},
   "outputs": [],
   "source": [
    "# STEP 2: Write code\n",
    "\n"
   ]
  },
  {
   "cell_type": "markdown",
   "metadata": {},
   "source": [
    "## Step 3: Questions\n",
    "\n",
    "1. How does using a Python dictionary simplify this program? (Think of how you would have to write this program if you did not use a dictionary)\n",
    "\n",
    "Answer:\n",
    "\n",
    "\n",
    "2. What Happens when you run the program and just type `checkout`. Does the program work as you would expect?\n",
    "\n",
    "\n",
    "Answer:\n",
    "\n"
   ]
  },
  {
   "cell_type": "markdown",
   "metadata": {},
   "source": [
    "## Step 4: Reflection\n",
    "\n",
    "Reflect upon your experience completing this assignment. This should be a personal narrative, in your own voice, and cite specifics relevant to the activity as to help the grader understand how you arrived at the code you submitted. Things to consider touching upon: Elaborate on the process itself. Did your original problem analysis work as designed?  How many iterations did you go through before you arrived at the solution? Where did you struggle along the way and how did you overcome it? What did you learn from completing the assignment? What do you need to work on to get better? What was most valuable and least valuable about this exercise? Do you have any suggestions for improvements?\n",
    "\n",
    "To make a good reflection, you should journal your thoughts, questions and comments while you complete the exercise.\n",
    "\n",
    "Keep your response to between 100 and 250 words.\n",
    "\n",
    "`--== Write Your Reflection Below Here ==--`\n",
    "\n"
   ]
  },
  {
   "cell_type": "code",
   "execution_count": null,
   "metadata": {},
   "outputs": [],
   "source": [
    "# RUN THIS CODE CELL TO TURN IN YOUR WORK!\n",
    "from ist256.submission import Submission\n",
    "Submission().submit()"
   ]
  }
 ],
 "metadata": {
  "anaconda-cloud": {},
  "kernelspec": {
   "display_name": "Python 3",
   "language": "python",
   "name": "python3"
  },
  "language_info": {
   "codemirror_mode": {
    "name": "ipython",
    "version": 3
   },
   "file_extension": ".py",
   "mimetype": "text/x-python",
   "name": "python",
   "nbconvert_exporter": "python",
   "pygments_lexer": "ipython3",
   "version": "3.8.2"
  },
  "toc": {
   "base_numbering": 1,
   "nav_menu": {},
   "number_sections": false,
   "sideBar": false,
   "skip_h1_title": false,
   "title_cell": "Table of Contents",
   "title_sidebar": "Contents",
   "toc_cell": false,
   "toc_position": {},
   "toc_section_display": false,
   "toc_window_display": false
  }
 },
 "nbformat": 4,
 "nbformat_minor": 4
}
