{
 "cells": [
  {
   "cell_type": "markdown",
   "metadata": {},
   "source": [
    "# Now You Code 1: Address\n",
    "\n",
    "Write a Python program to input elements of your postal address and then output them as if they were an address label. The program should use a dictionary to store the address and complete two function defintions one for inputting the address and one for printing the address.\n",
    "\n",
    "**NOTE:** While you most certainly can write this program without using dictionaries or functions, the point of the exercise is to get used to using them!!!\n",
    "\n",
    "Sample Run:\n",
    "\n",
    "```\n",
    "Enter Street: 314 Hinds Hall\n",
    "Enter City: Syracuse\n",
    "Enter State: NY\n",
    "Enter Postal Zip Code: 13244\n",
    "Mailing Address:\n",
    "314 Hinds Hall\n",
    "Syracuse , NY 13244\n",
    "\n",
    "```"
   ]
  },
  {
   "cell_type": "markdown",
   "metadata": {},
   "source": [
    "## Step 1: Problem Analysis `input_address` function\n",
    "\n",
    "This function should get input from the user at run time and return the input address.\n",
    "\n",
    "Inputs: None (gets input from user)\n",
    "\n",
    "Outputs: a Python dictionary of address info (street, city, state, postal_code)\n",
    "\n",
    "Algorithm (Steps in Program):\n",
    "\n"
   ]
  },
  {
   "cell_type": "code",
   "execution_count": 2,
   "metadata": {},
   "outputs": [],
   "source": [
    "## Step 2: Write input_address_ function\n",
    "#input: None (inputs from console)\n",
    "#output: dictionary of the address\n",
    "def input_address():\n",
    "    address= {}\n",
    "    # todo: write code here to input the street, city, state and zip code and add to dictionary at runtime and store in a dictionary\n",
    "\n",
    "    return address\n",
    "\n"
   ]
  },
  {
   "cell_type": "markdown",
   "metadata": {},
   "source": [
    "## Step 3: Problem Analysis `print_address` function\n",
    "\n",
    "This function should display a mailing address using the dictionary variable\n",
    "\n",
    "Inputs: dictionary variable of address information (street, city, state, postal_code)\n",
    "\n",
    "Outputs: None (prints to screen)\n",
    "\n",
    "Algorithm (Steps in Program):\n",
    "\n"
   ]
  },
  {
   "cell_type": "code",
   "execution_count": null,
   "metadata": {
    "collapsed": true
   },
   "outputs": [],
   "source": [
    "## Step 4: write code\n",
    "# input: address dictionary\n",
    "# output: none (outputs to console)\n",
    "def print_address(address):\n",
    "    # todo: write code to print the address (leave empty return at the end\n",
    "    \n",
    "    return "
   ]
  },
  {
   "cell_type": "markdown",
   "metadata": {},
   "source": [
    "## Step 5: Problem Analysis main program\n",
    "\n",
    "Should be trivial at this point. \n",
    "\n",
    "Inputs: \n",
    "\n",
    "Outputs: \n",
    "\n",
    "Algorithm (Steps in Program):\n"
   ]
  },
  {
   "cell_type": "code",
   "execution_count": null,
   "metadata": {
    "collapsed": true
   },
   "outputs": [],
   "source": [
    "## Step 6: write main program, use other 2 functions you made to solve this problem.\n",
    "    \n",
    "# main program\n",
    "# todo: call input_address, then print_address\n",
    "\n",
    "\n"
   ]
  },
  {
   "cell_type": "markdown",
   "metadata": {},
   "source": [
    "## Step 7: Questions\n",
    "\n",
    "1. Explain a strategy for a situation when an expected dictionary key, like 'state' for example does not exist?\n",
    "\n",
    "Answer:\n",
    "\n",
    "\n",
    "2. The program as it is written is not very useful. How can we make it more useful?\n",
    "\n",
    "\n",
    "Answer:\n"
   ]
  },
  {
   "cell_type": "markdown",
   "metadata": {},
   "source": [
    "## Step 8: Reflection\n",
    "\n",
    "Reflect upon your experience completing this assignment. This should be a personal narrative, in your own voice, and cite specifics relevant to the activity as to help the grader understand how you arrived at the code you submitted. Things to consider touching upon: Elaborate on the process itself. Did your original problem analysis work as designed?  How many iterations did you go through before you arrived at the solution? Where did you struggle along the way and how did you overcome it? What did you learn from completing the assignment? What do you need to work on to get better? What was most valuable and least valuable about this exercise? Do you have any suggestions for improvements?\n",
    "\n",
    "To make a good reflection, you should journal your thoughts, questions and comments while you complete the exercise.\n",
    "\n",
    "Keep your response to between 100 and 250 words.\n",
    "\n",
    "`--== Write Your Reflection Below Here ==--`\n",
    "\n"
   ]
  }
 ],
 "metadata": {
  "anaconda-cloud": {},
  "kernelspec": {
   "display_name": "Python 3",
   "language": "python",
   "name": "python3"
  },
  "language_info": {
   "codemirror_mode": {
    "name": "ipython",
    "version": 3
   },
   "file_extension": ".py",
   "mimetype": "text/x-python",
   "name": "python",
   "nbconvert_exporter": "python",
   "pygments_lexer": "ipython3",
   "version": "3.6.6"
  },
  "toc": {
   "base_numbering": 1,
   "nav_menu": {},
   "number_sections": false,
   "sideBar": false,
   "skip_h1_title": false,
   "title_cell": "Table of Contents",
   "title_sidebar": "Contents",
   "toc_cell": false,
   "toc_position": {},
   "toc_section_display": false,
   "toc_window_display": false
  }
 },
 "nbformat": 4,
 "nbformat_minor": 1
}
