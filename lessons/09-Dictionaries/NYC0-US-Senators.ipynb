{
 "cells": [
  {
   "cell_type": "markdown",
   "metadata": {},
   "source": [
    "# Now You Code In Class : US Senators\n",
    "\n",
    "Write a program to load the JSON data file `'NYC0-US-Senators-2019.json'` *** and perform a data analysis over the file. It should load the file as a list of dictionary and then allow the user to perform the following functions:\n",
    "\n",
    "\n",
    "1. List a count of senators by party affiliation\n",
    "2. List a count senators gender.\n",
    "\n",
    "Consider writing 1. and 2. as functions which take the list of senators as input and output a dictionary of the party and gender counts respectively. \n",
    "\n",
    "HINT: Build dictionary of the values and and count them. That way you don't have to know the the parties or genders in advance. Basically this works like the word count example from the severance reading and is a common approach used in computing to aggegrate values. \n",
    "\n",
    "\n",
    "\n",
    "Sample run:\n",
    "\n",
    "```\n",
    "Analysis of US Senators: \n",
    "Party Counts {'republican': 53, 'democrat': 45, 'independent': 2}\n",
    "Gender Counts {'male': 75, 'female': 25}\n",
    "```\n",
    "\n",
    "\n",
    "*** This file was extracted from: https://www.govtrack.us/api/v2/role?current=true&role_type=senator\n"
   ]
  },
  {
   "cell_type": "markdown",
   "metadata": {
    "collapsed": true
   },
   "source": [
    "## Step 1: Problem Analysis\n",
    "\n",
    "This function should get input from the user at run time and return the input address.\n",
    "\n",
    "Inputs:\n",
    "\n",
    "Outputs: \n",
    "\n",
    "Algorithm (Steps in Program):\n"
   ]
  },
  {
   "cell_type": "code",
   "execution_count": 15,
   "metadata": {},
   "outputs": [
    {
     "name": "stdout",
     "output_type": "stream",
     "text": [
      "Analysis of US Senators: \n",
      "Party Counts {'republican': 53, 'democrat': 45, 'independent': 2}\n",
      "Gender Counts {'male': 75, 'female': 25}\n"
     ]
    }
   ],
   "source": [
    "# Write code \n",
    "def count_gender(senators):\n",
    "    gender_dict = {}\n",
    "    for senator in senators:\n",
    "        gender = senator['person']['gender'].lower()\n",
    "        gender_dict[gender] = gender_dict.get(gender,0) +1\n",
    "        \n",
    "    return gender_dict\n",
    "\n",
    "def count_party(senators):\n",
    "    party_dict =  {}\n",
    "    for senator in senators:\n",
    "        party = senator['party'].lower()\n",
    "        party_dict[party] = party_dict.get(party,0) +1\n",
    "        \n",
    "    return party_dict\n",
    "\n",
    "file = 'NYC0-US-Senators-2019.json'\n",
    "with open(file, 'r') as f:\n",
    "    senators = json.load(f)\n",
    "\n",
    "gender = count_gender(senators)\n",
    "party = count_party(senators)\n",
    "    \n",
    "print(\"Analysis of US Senators: \")\n",
    "print(f\"Party Counts {party}\")\n",
    "print(f\"Gender Counts {gender}\")\n",
    "\n"
   ]
  },
  {
   "cell_type": "code",
   "execution_count": 5,
   "metadata": {},
   "outputs": [],
   "source": [
    "# code to update the senators in case you want fresh data!\n",
    "\n",
    "import requests\n",
    "import json \n",
    "senators = requests.get('https://www.govtrack.us/api/v2/role?current=true&role_type=senator').json()['objects']\n",
    "with open('NYC0-US-Senators-2019.json','w') as f:\n",
    "    f.write(json.dumps(senators))"
   ]
  }
 ],
 "metadata": {
  "anaconda-cloud": {},
  "kernelspec": {
   "display_name": "Python 3",
   "language": "python",
   "name": "python3"
  },
  "language_info": {
   "codemirror_mode": {
    "name": "ipython",
    "version": 3
   },
   "file_extension": ".py",
   "mimetype": "text/x-python",
   "name": "python",
   "nbconvert_exporter": "python",
   "pygments_lexer": "ipython3",
   "version": "3.6.6"
  },
  "toc": {
   "base_numbering": 1,
   "nav_menu": {},
   "number_sections": false,
   "sideBar": false,
   "skip_h1_title": false,
   "title_cell": "Table of Contents",
   "title_sidebar": "Contents",
   "toc_cell": false,
   "toc_position": {},
   "toc_section_display": false,
   "toc_window_display": false
  }
 },
 "nbformat": 4,
 "nbformat_minor": 1
}
