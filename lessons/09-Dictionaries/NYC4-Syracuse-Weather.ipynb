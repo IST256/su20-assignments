{
 "cells": [
  {
   "cell_type": "markdown",
   "metadata": {},
   "source": [
    "# Now You Code 4: Syracuse Weather\n",
    "\n",
    "Write a program to load the Syracuse weather data from Dec 2015 in\n",
    "JSON format into a Python list of dictionary. \n",
    "\n",
    "The file with the weather data is: `\"NYC4-syr-weather-dec-2015.json\"`\n",
    "\n",
    "You should load this data into a Python list of dictionary using the `json` package. \n",
    "\n",
    "After you load this data, loop over the list of weather items and record whether or not the `'Mean TemperatureF'` is above or below freezing. \n",
    "\n",
    "Sort this information into a separate Python dictionary, called `stats` so you can print it out like this:\n",
    "```\n",
    "{'days-below-freezing': 4, 'days-above-freezing': 27}\n",
    "```\n",
    "\n",
    "After you print the information write it to the file `NYC4-syr-weather-dec-2015-stats.json`\n"
   ]
  },
  {
   "cell_type": "markdown",
   "metadata": {
    "collapsed": true
   },
   "source": [
    "## Step 1: Problem Analysis\n",
    "\n",
    "This function should get input from the user at run time and return the input address.\n",
    "\n",
    "Inputs:\n",
    "\n",
    "Outputs: \n",
    "\n",
    "Algorithm (Steps in Program):\n"
   ]
  },
  {
   "cell_type": "code",
   "execution_count": null,
   "metadata": {},
   "outputs": [],
   "source": [
    "# Step 2: Write code\n",
    "\n"
   ]
  },
  {
   "cell_type": "markdown",
   "metadata": {},
   "source": [
    "## Step 3: Questions\n",
    "\n",
    "1. What are the advantages to storing the number of days above freezing and below freezing in a Python dictionary?\n",
    "\n",
    "Answer:\n",
    "\n",
    "\n",
    "2. What is the data type of the weather data as it is read from the file `NYC4-syr-weather-dec-2015.json` ?\n",
    "\n",
    "Answer:\n",
    "\n",
    "\n",
    "3. Could this same program work for weather at other times in other cities? What conditions would need to be met for this to happen?\n",
    "\n",
    "Answer:\n",
    "\n"
   ]
  },
  {
   "cell_type": "markdown",
   "metadata": {},
   "source": [
    "## Step 4: Reflection\n",
    "\n",
    "Reflect upon your experience completing this assignment. This should be a personal narrative, in your own voice, and cite specifics relevant to the activity as to help the grader understand how you arrived at the code you submitted. Things to consider touching upon: Elaborate on the process itself. Did your original problem analysis work as designed?  How many iterations did you go through before you arrived at the solution? Where did you struggle along the way and how did you overcome it? What did you learn from completing the assignment? What do you need to work on to get better? What was most valuable and least valuable about this exercise? Do you have any suggestions for improvements?\n",
    "\n",
    "To make a good reflection, you should journal your thoughts, questions and comments while you complete the exercise.\n",
    "\n",
    "Keep your response to between 100 and 250 words.\n",
    "\n",
    "`--== Write Your Reflection Below Here ==--`\n",
    "\n"
   ]
  }
 ],
 "metadata": {
  "anaconda-cloud": {},
  "kernelspec": {
   "display_name": "Python 3",
   "language": "python",
   "name": "python3"
  },
  "language_info": {
   "codemirror_mode": {
    "name": "ipython",
    "version": 3
   },
   "file_extension": ".py",
   "mimetype": "text/x-python",
   "name": "python",
   "nbconvert_exporter": "python",
   "pygments_lexer": "ipython3",
   "version": "3.6.6"
  },
  "toc": {
   "base_numbering": 1,
   "nav_menu": {},
   "number_sections": false,
   "sideBar": false,
   "skip_h1_title": false,
   "title_cell": "Table of Contents",
   "title_sidebar": "Contents",
   "toc_cell": false,
   "toc_position": {},
   "toc_section_display": false,
   "toc_window_display": false
  }
 },
 "nbformat": 4,
 "nbformat_minor": 1
}
