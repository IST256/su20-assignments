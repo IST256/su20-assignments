{
 "cells": [
  {
   "cell_type": "markdown",
   "metadata": {},
   "source": [
    "## Now You Code: Sentiment Analysis of Music Lyrics?\n",
    "\n",
    "Let's write an application which uses the Musixmatch API https://developer.musixmatch.com/ to obtain lyrics to a song.\n",
    "\n",
    "We then run sentiment analysis over the song lyrics using the Azure Text Analytics service from the lab, or the Text-Processing API from the examples.\n",
    "\n",
    "The basic gist of the application will be:\n",
    "\n",
    "1. ask for a song title\n",
    "2. search for that title on musixmatch, assuming the first one is your target song.\n",
    "3. retrieve the lyrics\n",
    "4. run through the sentiment analyzer\n",
    "5. print out the sentiment of the song.\n",
    "\n",
    "You should try to implement the following functions below. I suggest taking a **bottom-up problem solving approach**, first writing the function, testing it, and then finally using them in the main program. Remember good functions should do one thing well and have data inputs and data outputs through the return statement. They should be immutable, meaning the function does not change data but instead it returns the data back to the caller.\n",
    "\n",
    "Once you implement the functions, implement your main program. Then implement any error handling.\n"
   ]
  },
  {
   "cell_type": "markdown",
   "metadata": {},
   "source": [
    "## Step 1: Problem Analysis\n",
    "\n",
    "Inputs:\n",
    "\n",
    "Outputs:\n",
    "\n",
    "Algorithm (Steps in Program):\n"
   ]
  },
  {
   "cell_type": "code",
   "execution_count": 48,
   "metadata": {},
   "outputs": [],
   "source": [
    "import requests \n",
    "\n",
    "\n",
    "def sentiment (text):\n",
    "    '''\n",
    "        returns the sentiment of the given text. up to you as to whether it returns just 'pos', 'neg', 'neutral' or more information \n",
    "    '''\n",
    "    key = \"cc2610c73e9f4c58ab2484a07ebfb2c8\"\n",
    "    endpoint = \"https://ist256-text-analytics.cognitiveservices.azure.com/\"\n",
    "    url = f'{endpoint}text/analytics/v3.0-preview.1/sentiment'\n",
    "\n",
    "    # TODO: Write code here\n",
    "    \n",
    "\n",
    "def find_song(song_title, song_artist):\n",
    "    '''\n",
    "        get the closest matching song to title and artist using the track.search api call\n",
    "        return the first track\n",
    "    '''\n",
    "    # todo: implement here\n",
    "\n",
    "def get_lyrics(track_id):\n",
    "    '''\n",
    "        get the closest matching song to title and artist using the track.lyrics.get api call\n",
    "        return the lyrics as text string\n",
    "    '''        \n",
    "    # todo: implement here\n",
    "\n",
    "    \n",
    "# MAIN\n"
   ]
  },
  {
   "cell_type": "code",
   "execution_count": null,
   "metadata": {},
   "outputs": [],
   "source": [
    "# RUN THIS CODE CELL TO TURN IN YOUR WORK!\n",
    "from ist256.submission import Submission\n",
    "Submission().submit()"
   ]
  }
 ],
 "metadata": {
  "kernelspec": {
   "display_name": "Python 3",
   "language": "python",
   "name": "python3"
  },
  "language_info": {
   "codemirror_mode": {
    "name": "ipython",
    "version": 3
   },
   "file_extension": ".py",
   "mimetype": "text/x-python",
   "name": "python",
   "nbconvert_exporter": "python",
   "pygments_lexer": "ipython3",
   "version": "3.8.2"
  },
  "toc": {
   "base_numbering": 1,
   "nav_menu": {},
   "number_sections": false,
   "sideBar": false,
   "skip_h1_title": false,
   "title_cell": "Table of Contents",
   "title_sidebar": "Contents",
   "toc_cell": false,
   "toc_position": {},
   "toc_section_display": false,
   "toc_window_display": false
  }
 },
 "nbformat": 4,
 "nbformat_minor": 4
}
