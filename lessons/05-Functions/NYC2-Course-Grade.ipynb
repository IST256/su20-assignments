{
 "cells": [
  {
   "cell_type": "markdown",
   "metadata": {},
   "source": [
    "# Now You Code 2: Course Grade\n",
    "\n",
    "In a previous homework you wrote a program to calculate the final letter grade in IST256 when given the total points out of 600.\n",
    "\n",
    "The code appears below. Feel free to execute this code a few times in order to get a feel for how it works."
   ]
  },
  {
   "cell_type": "code",
   "execution_count": null,
   "metadata": {},
   "outputs": [],
   "source": [
    "print(\"IST256 Grade Calculator\")\n",
    "points = int(input(\"Enter total points out of 600: \"))\n",
    "if points >= 570:\n",
    "    grade = \"A\"\n",
    "elif points >= 540:\n",
    "    grade = \"A-\"\n",
    "elif points >= 510:\n",
    "    grade = \"B+\"\n",
    "elif points >= 480:\n",
    "    grade = \"B\"\n",
    "elif points >= 450:\n",
    "    grade = \"B-\"\n",
    "elif points >= 420:\n",
    "    grade = \"C+\"\n",
    "elif points >= 390:\n",
    "    grade = \"C\"\n",
    "elif points >= 360:\n",
    "    grade = \"C-\"\n",
    "elif points >= 300:\n",
    "    grade = \"D\"\n",
    "else:\n",
    "    grade = \"F\"\n",
    "\n",
    "print(f\"Grade: {grade}\") \n"
   ]
  },
  {
   "cell_type": "markdown",
   "metadata": {},
   "source": [
    "# Write - Refactor - Test - Rewrite Approach\n",
    "\n",
    "The best way to get good at writing functions, a skill you will need to master to become a respectable programmer, is to use the **Write - Refactor - Test - Rewrite** approach. In this approch we:\n",
    "\n",
    "1. Write our code\n",
    "2. Refactor it into a function\n",
    "3. Test the function to make sure it works as expected\n",
    "4. Rewrite our code to call our new function\n",
    "\n",
    "## Step 1: Write code\n",
    "\n",
    "The program has been written for you above. Your goal is to refactor it into a function, test the function then re-write the code.\n",
    "\n",
    "## Step 2: Refactor Into a function\n",
    "\n",
    "One reason to re-factor code into a function is to simplify our code. It's easier to understand `GetGrade()` as opposed to all of those `if ..elif` statements which make up `GetGrade` itself.\n",
    "\n",
    "Now re-factor the code into a user-defined Python function. The name of the function should be `GetGrade()`. The function should take a number of points as input and return the appropriate letter grade based on those points. \n",
    "\n",
    "**NOTE:** There should not be any `print()` or `input()` statements in your function!\n"
   ]
  },
  {
   "cell_type": "code",
   "execution_count": null,
   "metadata": {},
   "outputs": [],
   "source": [
    "## Step 2: Todo Write function defintion\n",
    "## Function: GetGrade\n",
    "## Arguments: points (eg. 540)\n",
    "## Returns: grade (A, B+ etc...)\n",
    "\n",
    "#TODO: Write function definition here\n",
    "\n",
    "    "
   ]
  },
  {
   "cell_type": "markdown",
   "metadata": {},
   "source": [
    "## Step 3: Test our function\n",
    "\n",
    "With the function complete, we need to test our function. The simplest way to do that is call the function with inputs we expect and verify the output. For example:\n",
    "\n",
    "```\n",
    "WHEN point='570' We EXPECT GetGrade(points) to return A \n",
    "WHEN points='540' We EXPECT GetGrade(points) to return A- \n",
    "```\n",
    "\n",
    "The first two are written for you but you will need to write the remaining tests to tests all the cases. As a general rule, there should be one test for each kind of output (in this case A through F). You only need to test at the boundaires. No need to test every single value between 0 and 600. "
   ]
  },
  {
   "cell_type": "code",
   "execution_count": null,
   "metadata": {},
   "outputs": [],
   "source": [
    "# Step 3: Write tests. The first two tests were written for you. You must write the rest!\n",
    "\n",
    "print(\"WHEN point='570' We EXPECT GetGrade(points) to return A ACTUAL:\", GetGrade(570))\n",
    "print(\"WHEN point='540' We EXPECT GetGrade(points) to return A- ACTUAL:\", GetGrade(540))\n",
    "#todo...\n"
   ]
  },
  {
   "cell_type": "markdown",
   "metadata": {},
   "source": [
    "## Step 4: rewrite the program to use the function\n",
    "\n",
    "Finally re-write the original program, with a twist. Follow this algorithm\n",
    "\n",
    "```\n",
    "loop\n",
    "    input a grade or type 'quit', save in variable text\n",
    "    if text equals 'quit'\n",
    "        break from the loop\n",
    "    convert the text to an integer, store in the variable number\n",
    "    call the GetGrade function with the number as input, store the output in letter grade\n",
    "    print the letter grade\n",
    "```"
   ]
  },
  {
   "cell_type": "code",
   "execution_count": null,
   "metadata": {},
   "outputs": [],
   "source": [
    "## Step 4: Write program here from the algorithm above\n"
   ]
  },
  {
   "cell_type": "markdown",
   "metadata": {},
   "source": [
    "## Step 5: Questions\n",
    "\n",
    "1. Provide 3 advantages for programming a user function in your code like `GetGrade` \n",
    "\n",
    "Answer:\n",
    "\n",
    "2. If we want to guarantee our `GetGrade` function is 100% accurate, what is the minimum number of test cases must we provide in step 3?\n",
    "\n",
    "Answer:\n",
    "\n",
    "\n",
    "3. How many times is the `GetGrade` function called in 'Step 3: Test our function'? How many times was it called in step 3?\n",
    "\n",
    "Answer:"
   ]
  },
  {
   "cell_type": "markdown",
   "metadata": {},
   "source": [
    "## Step 6: Reflection\n",
    "\n",
    "Reflect upon your experience completing this assignment. This should be a personal narrative, in your own voice, and cite specifics relevant to the activity as to help the grader understand how you arrived at the code you submitted. Things to consider touching upon: Elaborate on the process itself. Did your original problem analysis work as designed?  How many iterations did you go through before you arrived at the solution? Where did you struggle along the way and how did you overcome it? What did you learn from completing the assignment? What do you need to work on to get better? What was most valuable and least valuable about this exercise? Do you have any suggestions for improvements?\n",
    "\n",
    "To make a good reflection, you should journal your thoughts, questions and comments while you complete the exercise.\n",
    "\n",
    "Keep your response to between 100 and 250 words.\n",
    "\n",
    "`--== Write Your Reflection Below Here ==--`\n",
    "\n"
   ]
  },
  {
   "cell_type": "code",
   "execution_count": null,
   "metadata": {},
   "outputs": [],
   "source": [
    "# RUN THIS CODE CELL TO TURN IN YOUR WORK!\n",
    "from ist256.submission import Submission\n",
    "Submission().submit()"
   ]
  }
 ],
 "metadata": {
  "anaconda-cloud": {},
  "kernelspec": {
   "display_name": "Python 3",
   "language": "python",
   "name": "python3"
  },
  "language_info": {
   "codemirror_mode": {
    "name": "ipython",
    "version": 3
   },
   "file_extension": ".py",
   "mimetype": "text/x-python",
   "name": "python",
   "nbconvert_exporter": "python",
   "pygments_lexer": "ipython3",
   "version": "3.8.2"
  },
  "toc": {
   "base_numbering": 1,
   "nav_menu": {},
   "number_sections": false,
   "sideBar": false,
   "skip_h1_title": false,
   "title_cell": "Table of Contents",
   "title_sidebar": "Contents",
   "toc_cell": false,
   "toc_position": {},
   "toc_section_display": false,
   "toc_window_display": false
  }
 },
 "nbformat": 4,
 "nbformat_minor": 4
}
