{
 "cells": [
  {
   "cell_type": "markdown",
   "metadata": {},
   "source": [
    "# In-Class Coding Lab: Functions\n",
    "\n",
    "The goals of this lab are to help you to understand:\n",
    "\n",
    "- How to use Python's built-in functions in the standard library.\n",
    "- How to write user-defined functions\n",
    "- How to use other people's code.\n",
    "- The benefits of user-defined functions to code reuse and simplicity.\n",
    "- How to create a program to use functions to solve a complex idea\n",
    "\n",
    "We will demonstrate these through the following example:\n",
    "\n",
    "\n",
    "## The Credit Card Problem\n",
    "\n",
    "If you're going to do commerce on the web, you're going to support credit cards. But how do you know if a given number is valid? And how do you know which network issued the card?\n",
    "\n",
    "**Example:** Is `5300023581452982` a valid credit card number?Is it? Visa? MasterCard, Discover? or American Express?\n",
    "\n",
    "While eventually the card number is validated when you attempt to post a transaction, there's a lot of reasons why you might want to know its valid before the transaction takes place. The most common being just trying to catch an honest key-entry mistake made by your site visitor.\n",
    "\n",
    "So there are two things we'd like to figure out, for any \"potential\" card number:\n",
    "\n",
    "- Who is the issuing network? Visa, MasterCard, Discover or American Express.\n",
    "- IS the number potentially valid (as opposed to a made up series of digits)?\n",
    "\n",
    "### What does this have to do with functions?\n",
    "\n",
    "If we get this code to work, it seems like it might be useful to re-use it in several other programs we may write in the future. We can do this by writing the code as a **function**. Think of a function as an independent program its own inputs and output. The program is defined under a name so that we can use it simply by calling its name. \n",
    "\n",
    "**Example:** `n = int(\"50\")` the function `int()` takes the string `\"50\"` as input and converts it to an `int` value `50` which is then stored in the value `n`.\n",
    "\n",
    "When you create these credit card functions, we might want to re-use them by placing them in a **Module** which is a file with a collection of functions in it. Furthermore we can take a group of related modules and place them together in a Python **Package**. You install packages on your computer with the `pip` command. \n"
   ]
  },
  {
   "cell_type": "markdown",
   "metadata": {},
   "source": [
    "## Built-In Functions\n",
    "\n",
    "Let's start by checking out the built-in functions in Python's math library. We use the `dir()` function to list the names of the math library:\n"
   ]
  },
  {
   "cell_type": "code",
   "execution_count": null,
   "metadata": {},
   "outputs": [],
   "source": [
    "import math\n",
    "\n",
    "dir(math)"
   ]
  },
  {
   "cell_type": "markdown",
   "metadata": {},
   "source": [
    "If you look through the output, you'll see a `factorial` name. Let's see if it's a function we can use:"
   ]
  },
  {
   "cell_type": "code",
   "execution_count": null,
   "metadata": {},
   "outputs": [],
   "source": [
    "help(math.factorial)"
   ]
  },
  {
   "cell_type": "markdown",
   "metadata": {},
   "source": [
    "It says it's a built-in function, and requies an integer value (which it referrs to as x, but that value is arbitrary) as an argument. Let's call the function and see if it works:"
   ]
  },
  {
   "cell_type": "code",
   "execution_count": null,
   "metadata": {},
   "outputs": [],
   "source": [
    "math.factorial(5) #this is an example of \"calling\" the function with input 5. The output should be 120"
   ]
  },
  {
   "cell_type": "code",
   "execution_count": null,
   "metadata": {},
   "outputs": [],
   "source": [
    "math.factorial(0) # here we call the same function with input 0. The output should be 1."
   ]
  },
  {
   "cell_type": "code",
   "execution_count": null,
   "metadata": {},
   "outputs": [],
   "source": [
    "## Call the factorial function with an input argument of 4. What is the output?\n",
    "#TODO write code here.\n"
   ]
  },
  {
   "cell_type": "markdown",
   "metadata": {},
   "source": [
    "## Using functions to print things awesome in Juypter\n",
    "\n",
    "Until this point we've used the boring `print()` function for our output. Let's do better. In the `IPython.display` module there are two functions `display()` and `HTML()`. The `display()` function outputs a Python object to the Jupyter notebook. The `HTML()` function creates a Python object from [HTML Markup](https://www.w3schools.com/html/html_intro.asp) as a string.\n",
    "\n",
    "For example this prints Hello in Heading 1.\n"
   ]
  },
  {
   "cell_type": "code",
   "execution_count": null,
   "metadata": {},
   "outputs": [],
   "source": [
    "from IPython.display import display, HTML\n",
    "\n",
    "print(\"Exciting:\")\n",
    "display(HTML(\"<h1>Hello</h1>\"))\n",
    "print(\"Boring:\")\n",
    "print(\"Hello\")\n"
   ]
  },
  {
   "cell_type": "markdown",
   "metadata": {},
   "source": [
    "Let's keep the example going by writing two of our own functions to print a title and print text as normal, respectively. \n",
    "\n",
    "Execute this code:"
   ]
  },
  {
   "cell_type": "code",
   "execution_count": null,
   "metadata": {},
   "outputs": [],
   "source": [
    "def print_title(text):\n",
    "    '''\n",
    "    This prints text to IPython.display as H1\n",
    "    '''\n",
    "    return display(HTML(\"<H1>\" + text + \"</H1>\"))\n",
    "\n",
    "def print_normal(text):\n",
    "    '''\n",
    "    this prints text to IPython.display as normal text\n",
    "    '''\n",
    "    return display(HTML(text))\n"
   ]
  },
  {
   "cell_type": "markdown",
   "metadata": {},
   "source": [
    "Now let's use these two functions in a familiar program! "
   ]
  },
  {
   "cell_type": "code",
   "execution_count": null,
   "metadata": {},
   "outputs": [],
   "source": [
    "print_title(\"Area of a Rectangle\")\n",
    "length = float(input(\"Enter length: \"))\n",
    "width = float(input(\"Enter width: \"))\n",
    "area = length * width\n",
    "print_normal(\"The area is %.2f\" % area)\n"
   ]
  },
  {
   "cell_type": "markdown",
   "metadata": {},
   "source": [
    "## Using Other People's Code\n",
    "\n",
    "Now that we know a bit about **Packages**, **Modules**, and **Functions** let me expand your horizons a bit. There's a whole world of Python code out there that you can use, and it's what makes Python the powerful and popular programming language that it is today.  All you need to do to use it is *read*!\n",
    "\n",
    "For example. Let's say I want to print some emojis in Python. I might search the Python Package Index [https://pypi.org/](https://pypi.org/) for some modules to try. \n",
    "\n",
    "For example this one: https://pypi.org/project/emoji/ \n",
    "\n",
    "Let's take it for a spin!\n"
   ]
  },
  {
   "cell_type": "markdown",
   "metadata": {},
   "source": [
    "### Installing with pip\n",
    "\n",
    "First we need to install the package with the `pip` utility. This runs from the command line, so to execute pip within our notebook we use the bang `!` operator.\n",
    "\n",
    "This downloads the package and installs it into your Python environment, so that you can `import` it. "
   ]
  },
  {
   "cell_type": "code",
   "execution_count": null,
   "metadata": {},
   "outputs": [],
   "source": [
    "!pip install emoji"
   ]
  },
  {
   "cell_type": "markdown",
   "metadata": {},
   "source": [
    "Once the package is installed we can use it. Learning how to use it is just a matter of reading the documentation and trying things out. There are no short-cuts here! For example:"
   ]
  },
  {
   "cell_type": "code",
   "execution_count": null,
   "metadata": {},
   "outputs": [],
   "source": [
    "# TODO: Run this\n",
    "import emoji\n",
    "print(emoji.emojize('Python is :thumbs_up:'))\n",
    "print(emoji.emojize('But I thought this :lab_coat: was supposed to be about :credit_card: ??'))"
   ]
  },
  {
   "cell_type": "markdown",
   "metadata": {},
   "source": [
    "### Now you try it\n",
    "\n",
    "Write a python program to print the bacon and ice cream emojis"
   ]
  },
  {
   "cell_type": "code",
   "execution_count": null,
   "metadata": {},
   "outputs": [],
   "source": [
    "## TODO: Write your code here\n",
    "\n"
   ]
  },
  {
   "cell_type": "markdown",
   "metadata": {},
   "source": [
    "## Let's get back to credit cards....\n",
    "\n",
    "Now that we know  a bit about **Packages**, **Modules**, and **Functions** let's attempt to write our first function. Let's tackle the easier of our two credit card related problems:\n",
    "\n",
    "- Who is the issuing network? Visa, MasterCard, Discover or American Express.\n",
    "\n",
    "This problem can be solved by looking at the first digit of the card number:\n",
    "\n",
    " - \"4\" ==> \"Visa\"\n",
    " - \"5\" ==> \"MasterCard\"\n",
    " - \"6\" ==> \"Discover\"\n",
    " - \"3\" ==> \"American Express\"\n",
    " \n",
    "So for card number `5300023581452982` the issuer is \"MasterCard\".\n",
    "\n",
    "It should be easy to write a program to solve this problem. Here's the algorithm:\n",
    "\n",
    "```\n",
    "input credit card number into variable card\n",
    "get the first digit of the card number (eg. digit = card[0])\n",
    "if digit equals \"4\"\n",
    "    the card issuer \"Visa\"\n",
    "elif digit equals \"5\"\n",
    "    the card issuer \"MasterCard\"\n",
    "elif digit equals \"6\"\n",
    "    the card issuer is \"Discover\"\n",
    "elif digit equals \"3\"\n",
    "    the card issues is \"American Express\"\n",
    "else\n",
    "    the issuer is \"Invalid\"    \n",
    "print issuer\n",
    "```\n",
    "\n",
    "### Now You Try It\n",
    "\n",
    "Turn the algorithm into python code"
   ]
  },
  {
   "cell_type": "code",
   "execution_count": null,
   "metadata": {},
   "outputs": [],
   "source": [
    "## TODO: Write your code here\n"
   ]
  },
  {
   "cell_type": "markdown",
   "metadata": {},
   "source": [
    "**IMPORTANT** Make sure to test your code by running it 5 times. You should test issuer and also the \"Invalid Card\" case.\n",
    "\n",
    "## Introducing the Write - Refactor - Test - Rewrite approach\n",
    "\n",
    "It would be nice to re-write this code to use a function. This can seem daunting / confusing for beginner programmers, which is why we teach the **Write - Refactor - Test - Rewrite** approach. In this approach you write the ENTIRE PROGRAM and then REWRITE IT to use functions. Yes, it's inefficient, but until you get comfotable thinking \"functions first\" its the best way to modularize your code with functions. Here's the approach:\n",
    "\n",
    "1. Write the code\n",
    "2. Refactor (change the code around) to use a function\n",
    "3. Test the function by calling it\n",
    "4. Rewrite the original code to use the new function.\n",
    "\n",
    "\n",
    "We already did step 1: Write so let's move on to:\n",
    "\n",
    "### Step 2: refactor\n",
    "\n",
    "Let's strip the logic out of the above code to accomplish the task of the function:\n",
    "\n",
    "- Send into the function as input a credit card number as a `str`\n",
    "- Return back from the function as output the issuer of the card as a `str`\n",
    "\n",
    "To help you out we've written the function stub for you all you need to do is write the function body code."
   ]
  },
  {
   "cell_type": "code",
   "execution_count": null,
   "metadata": {},
   "outputs": [],
   "source": [
    "def CardIssuer(card):\n",
    "    '''This function takes a card number (card) as input, and returns the issuer name as output'''\n",
    "    ## TODO write code here they should be the same as lines 3-13 from the code above\n",
    "    \n",
    "    # the last line in the function should return the output\n",
    "    return issuer"
   ]
  },
  {
   "cell_type": "markdown",
   "metadata": {},
   "source": [
    "### Step 3: Test\n",
    "\n",
    "You wrote the function, but how do you know it works? The short answer is unless you write code to *test your function* you're simply guessing!\n",
    "\n",
    "Testing our function is as simple as calling the function with input values where WE KNOW WHAT TO EXPECT from the output. We then compare that to the ACTUAL value from the called function. If they are the same, then we know the function is working as expected!\n",
    "\n",
    "Here are some examples:\n",
    "\n",
    "```\n",
    "WHEN card='40123456789' We EXPECT CardIssuer(card) to return Visa\n",
    "WHEN card='50123456789' We EXPECT CardIssuer(card) to return MasterCard\n",
    "WHEN card='60123456789' We EXPECT CardIssuer(card) to return Discover\n",
    "WHEN card='30123456789' We EXPECT CardIssuer(card) to return American Express\n",
    "WHEN card='90123456789' We EXPECT CardIssuer(card) to return Invalid Card\n",
    "```\n",
    "\n",
    "### Now you Try it!\n",
    "\n",
    "Write the tests based on the examples:"
   ]
  },
  {
   "cell_type": "code",
   "execution_count": null,
   "metadata": {},
   "outputs": [],
   "source": [
    "# Testing the CardIssuer() function\n",
    "print(\"WHEN card='40123456789' We EXPECT CardIssuer(card) to return Visa ACTUAL\", CardIssuer(\"40123456789\"))\n",
    "print(\"WHEN card='50123456789' We EXPECT CardIssuer(card) to return MasterCard ACTUAL\", CardIssuer(\"50123456789\"))\n",
    "\n",
    "## TODO: You write the remaining 3 tests, you can copy the lines and edit the values accordingly\n",
    "\n"
   ]
  },
  {
   "cell_type": "markdown",
   "metadata": {},
   "source": [
    "### Step 4: Rewrite\n",
    "\n",
    "The final step is to re-write the original program, but use the function instead. The algorithm becomes\n",
    "\n",
    "```\n",
    "input credit card number into variable card\n",
    "call the CardIssuer function with card as input, issuer as output\n",
    "print issuer\n",
    "```\n",
    "\n",
    "### Now You Try It!\n"
   ]
  },
  {
   "cell_type": "code",
   "execution_count": null,
   "metadata": {},
   "outputs": [],
   "source": [
    "# TODO Re-write the program here, calling our function.\n"
   ]
  },
  {
   "cell_type": "markdown",
   "metadata": {},
   "source": [
    "## Functions are abstractions. Abstractions are good.\n",
    "\n",
    "\n",
    "Step on the accellerator and the car goes. How does it work? Who cares, it's an abstraction! Functions are the same way. Don't believe me. Consider the Luhn Check Algorithm: https://en.wikipedia.org/wiki/Luhn_algorithm \n",
    "\n",
    "This nifty little algorithm is used to verify that a sequence of digits is possibly a credit card number (as opposed to just a sequence of numbers). It uses a verfication approach called a **checksum** to as it uses a formula to figure out the validity. \n",
    "\n",
    "Here's the function which given a card will let you know if it passes the Luhn check:\n"
   ]
  },
  {
   "cell_type": "code",
   "execution_count": null,
   "metadata": {},
   "outputs": [],
   "source": [
    "# Todo: execute this code\n",
    "\n",
    "def checkLuhn(card):\n",
    "    ''' This Luhn algorithm was adopted from the pseudocode here: https://en.wikipedia.org/wiki/Luhn_algorithm'''\n",
    "    total = 0\n",
    "    length = len(card)\n",
    "    parity = length % 2\n",
    "    for i in range(length):\n",
    "        digit = int(card[i])\n",
    "        if i%2 == parity:\n",
    "            digit = digit * 2\n",
    "            if digit > 9:\n",
    "                digit = digit -9\n",
    "        total = total + digit\n",
    "    return total % 10 == 0\n"
   ]
  },
  {
   "cell_type": "markdown",
   "metadata": {},
   "source": [
    "### Is that a credit card number or the ramblings of a madman?\n",
    "\n",
    "In order to test the `checkLuhn()` function you need some credit card numbers. (Don't look at me... you ain't gettin' mine!!!!) Not to worry, the internet has you covered. The website: http://www.getcreditcardnumbers.com/ is not some mysterious site on the dark web. It's a site for generating \"test\" credit card numbers. You can't buy anything with these numbers, but they will pass the Luhn test.\n",
    "\n",
    "Grab a couple of numbers and test the Luhn function as we did with the `CardIssuer()` function. Write at least to tests like these ones:\n",
    "\n",
    "```\n",
    "WHEN card='5443713204330437' We EXPECT checkLuhn(card) to return True\n",
    "WHEN card='5111111111111111' We EXPECT checkLuhn(card) to return False \n",
    "```\n"
   ]
  },
  {
   "cell_type": "code",
   "execution_count": null,
   "metadata": {},
   "outputs": [],
   "source": [
    "#TODO Write your two tests here\n"
   ]
  },
  {
   "cell_type": "markdown",
   "metadata": {},
   "source": [
    "## Putting it all together\n",
    "\n",
    "Finally use your two functions to write the following program. It will ask for a series of credit card numbers, until you enter 'quit' for each number it will output whether it's invalid or if valid name the issuer.\n",
    "\n",
    "\n",
    "Here's the Algorithm:\n",
    "```\n",
    "loop\n",
    "    input a credit card number\n",
    "    if card = 'quit' stop loop\n",
    "    if card passes luhn check\n",
    "        get issuer\n",
    "        print issuer\n",
    "    else\n",
    "        print invalid card\n",
    "```\n",
    "\n",
    "### Now You Try It"
   ]
  },
  {
   "cell_type": "code",
   "execution_count": null,
   "metadata": {},
   "outputs": [],
   "source": [
    "## TODO Write code here\n"
   ]
  },
  {
   "cell_type": "markdown",
   "metadata": {},
   "source": [
    "## Metacognition\n",
    "\n",
    "Please answer the following questions. This should be a personal narrative, in your own voice. Answer the questions by double clicking on the question and placing your answer next to the Answer: prompt.\n",
    "\n",
    "### Questions\n",
    "\n",
    "1. Record any questions you have about this lab that you would like to ask in recitation. It is expected you will have questions if you did not complete the code sections correctly.  Learning how to articulate what you do not understand is an important skill of critical thinking. \n",
    "\n",
    "Answer: \n",
    "\n",
    "2. What was the most difficult aspect of completing this lab? Least difficult?  \n",
    "\n",
    "Answer: \n",
    "\n",
    "3. What aspects of this lab do you find most valuable? Least valuable?\n",
    "\n",
    "Answer: \n",
    "\n",
    "4. Rate your comfort level with this week's material so far.   \n",
    "\n",
    "1 ==> I can do this on my own and explain how to do it.   \n",
    "2 ==> I can do this on my own without any help.   \n",
    "3 ==> I can do this with help or guidance from others. If you choose this level please list those who helped you.   \n",
    "4 ==> I don't understand this at all yet and need extra help. If you choose this please try to articulate that which you do not understand.   \n",
    "\n",
    "Answer: \n",
    "\n"
   ]
  },
  {
   "cell_type": "code",
   "execution_count": null,
   "metadata": {},
   "outputs": [],
   "source": [
    "# RUN THIS CODE CELL TO TURN IN YOUR WORK!\n",
    "from ist256.submission import Submission\n",
    "Submission().submit()"
   ]
  }
 ],
 "metadata": {
  "anaconda-cloud": {},
  "kernelspec": {
   "display_name": "Python 3",
   "language": "python",
   "name": "python3"
  },
  "language_info": {
   "codemirror_mode": {
    "name": "ipython",
    "version": 3
   },
   "file_extension": ".py",
   "mimetype": "text/x-python",
   "name": "python",
   "nbconvert_exporter": "python",
   "pygments_lexer": "ipython3",
   "version": "3.8.2"
  },
  "toc": {
   "base_numbering": 1,
   "nav_menu": {},
   "number_sections": false,
   "sideBar": false,
   "skip_h1_title": false,
   "title_cell": "Table of Contents",
   "title_sidebar": "Contents",
   "toc_cell": false,
   "toc_position": {},
   "toc_section_display": false,
   "toc_window_display": false
  }
 },
 "nbformat": 4,
 "nbformat_minor": 4
}
