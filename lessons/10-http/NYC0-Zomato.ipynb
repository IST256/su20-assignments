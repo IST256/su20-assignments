{
 "cells": [
  {
   "cell_type": "markdown",
   "metadata": {},
   "source": [
    "# Now You Code In Class: Zomato\n",
    "\n",
    "For this Now You Code, you will need the Zomato api https://developers.zomato.com/api which provides API access to local area restaurants information. Sign up for an API key!\n",
    "\n",
    "Let's write a program to do the following\n",
    "\n",
    "1. input the place you're travelling to\n",
    "2. list the top 10 restaurants trending this week at the location\n",
    "3. Show the details address menu.\n",
    "\n",
    "You will need to use the following Zomato API's\n",
    "\n",
    "- https://developers.zomato.com/documentation#!/common/cities to get the city_id for the name of the city. \n",
    "- https://developers.zomato.com/documentation#!/restaurant/search (collection_id = 1 is for top 10 trending restaurants) in the city_id\n",
    "- https://developers.zomato.com/documentation#!/restaurant/restaurant (needs a res_id)\n",
    "\n",
    "\n",
    "NOTE: Do not worry about error handling or functions. We will attempt that next week.\n",
    "\n",
    "\n",
    "In your algorithm, frame your steps based on how the API must be used to complete the task. \n"
   ]
  },
  {
   "cell_type": "markdown",
   "metadata": {
    "collapsed": true
   },
   "source": [
    "## Step 1: Problem Analysis \n",
    "\n",
    "Inputs: None\n",
    "\n",
    "Outputs: a dictionary of current exchange rates\n",
    "\n",
    "Algorithm (Steps in Program):\n",
    "\n",
    "\n"
   ]
  },
  {
   "cell_type": "code",
   "execution_count": 20,
   "metadata": {},
   "outputs": [
    {
     "name": "stdout",
     "output_type": "stream",
     "text": [
      "280\n"
     ]
    }
   ],
   "source": [
    "import requests\n",
    "\n",
    "zomato_key = 'InsertYourKeyHere'\n",
    "\n"
   ]
  }
 ],
 "metadata": {
  "anaconda-cloud": {},
  "kernelspec": {
   "display_name": "Python 3",
   "language": "python",
   "name": "python3"
  },
  "language_info": {
   "codemirror_mode": {
    "name": "ipython",
    "version": 3
   },
   "file_extension": ".py",
   "mimetype": "text/x-python",
   "name": "python",
   "nbconvert_exporter": "python",
   "pygments_lexer": "ipython3",
   "version": "3.6.6"
  },
  "toc": {
   "base_numbering": 1,
   "nav_menu": {},
   "number_sections": false,
   "sideBar": false,
   "skip_h1_title": false,
   "title_cell": "Table of Contents",
   "title_sidebar": "Contents",
   "toc_cell": false,
   "toc_position": {},
   "toc_section_display": false,
   "toc_window_display": false
  }
 },
 "nbformat": 4,
 "nbformat_minor": 1
}
