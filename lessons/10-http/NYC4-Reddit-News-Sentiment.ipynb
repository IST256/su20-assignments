{
 "cells": [
  {
   "cell_type": "markdown",
   "metadata": {},
   "source": [
    "# Now You Code 4: Reddit News Sentiment Analysis\n",
    "\n",
    "In this assignment you're tasked with performing a sentiment analysis on top Reddit news articles. (`https://www.reddit.com/r/news/top.json`)\n",
    "\n",
    "You should perform the analysis on the titles only. \n",
    "\n",
    "Start by getting the Reddit API to work, and extracting a list of titles only. You'll have to research the Reddit API, and can do so here: https://www.reddit.com/dev/api/ The Reddit API requires a custom `User-Agent`. You must specify this in your ` HTTP Headers`, as explained here: https://github.com/reddit/reddit/wiki/API Figuring this out is the point of the homework as the rest is trivial.\n",
    "\n",
    "\n",
    "After you get Reddit working move on to sentiment analysis. Once again, we will use (`http://text-processing.com/api/sentiment/`) like we did in the in-class coding lab. Figurig this out should be trivial.\n",
    "\n",
    "We will start by writing the `GetRedditStories` and `GetSentiment` functions, then putting it all together."
   ]
  },
  {
   "cell_type": "markdown",
   "metadata": {},
   "source": [
    "## Step 1: Problem Analysis for `GetRedditStories`\n",
    "\n",
    "First let's write a function `GetRedditStories` to get the top news articles from the http://www.reddit.com site. \n",
    "\n",
    "\n",
    "Inputs: None\n",
    "\n",
    "Outputs: the top `stories` as a Python object converted from JSON\n",
    "\n",
    "Algorithm (Steps in Program):\n",
    "\n",
    "```\n",
    "todo write algorithm here\n",
    "```\n"
   ]
  },
  {
   "cell_type": "code",
   "execution_count": null,
   "metadata": {},
   "outputs": [],
   "source": [
    "# Step 2: write code \n",
    "\n",
    "import requests\n",
    "\n",
    "def GetRedditStories():\n",
    "    # todo write code return a list of dict of stories\n",
    "    \n",
    "\n",
    "# testing \n",
    "GetRedditStories() # you should see some stories\n"
   ]
  },
  {
   "cell_type": "markdown",
   "metadata": {},
   "source": [
    "## Step 3: Problem Analysis for `GetSentiment`\n",
    "\n",
    "Now let's write a function, that when given `text` will return the sentiment score for the text. We will use http://text-processing.com 's API for this. \n",
    "\n",
    "Inputs: `text` string\n",
    "\n",
    "Outputs: a Python dictionary of sentiment information based on `text`\n",
    "\n",
    "Algorithm (Steps in Program):\n",
    "\n",
    "```\n",
    "todo write algorithm here\n",
    "```\n"
   ]
  },
  {
   "cell_type": "code",
   "execution_count": null,
   "metadata": {},
   "outputs": [],
   "source": [
    "# Step 4: write code \n",
    "\n",
    "def GetSentiment(text):\n",
    "    # todo write code to return dict of sentiment for text\n",
    "    \n",
    "\n",
    "# testing\n",
    "GetSentiment(\"You are a bad, bad man!\")"
   ]
  },
  {
   "cell_type": "markdown",
   "metadata": {},
   "source": [
    "## Step 5: Problem Analysis for entire program\n",
    "\n",
    "Now let's write entire program.  This program should take the titles of the Reddit stories and for each one run sentiment analysis on it. It should output the sentiment label and story title, like this:\n",
    "\n",
    "Example Run (Your output will vary as news stories change...)\n",
    "\n",
    "```\n",
    "neutral : FBI Chief Comey 'Rejects' Phone Tap Allegation\n",
    "pos : New Peeps-flavored Oreos reportedly turning people's poop pink\n",
    "neutral : President Trump Signs Revised Travel Ban Executive Order\n",
    "neutral : Police: Overdose survivors to be charged with misdemeanor\n",
    "neutral : Struggling students forced to wait 3-4 weeks as Utah's public colleges don't have enough mental health therapists\n",
    "neutral : Army Veteran Faces Possible Deportation to Mexico\n",
    "neutral : Rep. Scott Taylor called out at town hall for ‘blocking’ constituents on social media\n",
    "neutral : GM to suspend third shift at Delta Township plant, layoff 1,100 workers\n",
    "neutral : American citizen Khizr Khan reportedly cancels trip to Canada after being warned his 'travel privileges are being reviewed'\n",
    "neg : Mars far more likely to have had life than we thought, researchers find after new water discovery\n",
    "neutral : Bird Flu Found at U.S. Farm That Supplies Chickens to Tyson\n",
    "neutral : Investigation Reveals Huge Volume of Shark Fins Evading International Shipping Bans\n",
    "neg : Sikh man's shooting in Washington investigated as hate crime\n",
    "```\n",
    "\n",
    "### Problem Analysis\n",
    "\n",
    "Inputs: (Reads current stories from Reddit)\n",
    "\n",
    "Outputs: Sentiment Label and story title for each story.\n",
    "\n",
    "Algorithm (Steps in Program):\n",
    "\n",
    "```\n",
    "todo write algorithm here\n",
    "```\n"
   ]
  },
  {
   "cell_type": "code",
   "execution_count": null,
   "metadata": {},
   "outputs": [],
   "source": [
    "## Step 6 Write final program here using the functions \n",
    "## you wrote in the previous steps! \n",
    "\n"
   ]
  },
  {
   "cell_type": "markdown",
   "metadata": {},
   "source": [
    "## Step 7: Questions\n",
    "\n",
    "1. What happens to this program when you do not have connectivity to the Internet? How can this code be modified to correct the issue?\n",
    "\n",
    "Answer: \n",
    "\n",
    "\n",
    "2. Most of the news stories come back with a neutral sentiment score. Does this surprise you? Explain your answer.\n",
    "\n",
    "Answer:\n",
    "\n",
    "\n",
    "3. In what ways can this program be made better / more useful?\n",
    "\n",
    "Answer:\n",
    "\n",
    "\n"
   ]
  },
  {
   "cell_type": "markdown",
   "metadata": {},
   "source": [
    "## Step 8: Reflection\n",
    "\n",
    "Reflect upon your experience completing this assignment. This should be a personal narrative, in your own voice, and cite specifics relevant to the activity as to help the grader understand how you arrived at the code you submitted. Things to consider touching upon: Elaborate on the process itself. Did your original problem analysis work as designed?  How many iterations did you go through before you arrived at the solution? Where did you struggle along the way and how did you overcome it? What did you learn from completing the assignment? What do you need to work on to get better? What was most valuable and least valuable about this exercise? Do you have any suggestions for improvements?\n",
    "\n",
    "To make a good reflection, you should journal your thoughts, questions and comments while you complete the exercise.\n",
    "\n",
    "Keep your response to between 100 and 250 words.\n",
    "\n",
    "`--== Write Your Reflection Below Here ==--`\n",
    "\n"
   ]
  },
  {
   "cell_type": "code",
   "execution_count": null,
   "metadata": {},
   "outputs": [],
   "source": [
    "# RUN THIS CODE CELL TO TURN IN YOUR WORK!\n",
    "from ist256.submission import Submission\n",
    "Submission().submit()"
   ]
  }
 ],
 "metadata": {
  "anaconda-cloud": {},
  "kernelspec": {
   "display_name": "Python 3",
   "language": "python",
   "name": "python3"
  },
  "language_info": {
   "codemirror_mode": {
    "name": "ipython",
    "version": 3
   },
   "file_extension": ".py",
   "mimetype": "text/x-python",
   "name": "python",
   "nbconvert_exporter": "python",
   "pygments_lexer": "ipython3",
   "version": "3.8.2"
  },
  "toc": {
   "base_numbering": 1,
   "nav_menu": {},
   "number_sections": false,
   "sideBar": false,
   "skip_h1_title": false,
   "title_cell": "Table of Contents",
   "title_sidebar": "Contents",
   "toc_cell": false,
   "toc_position": {},
   "toc_section_display": false,
   "toc_window_display": false
  }
 },
 "nbformat": 4,
 "nbformat_minor": 4
}
