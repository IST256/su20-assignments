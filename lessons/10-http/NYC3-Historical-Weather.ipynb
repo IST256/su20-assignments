{
 "cells": [
  {
   "cell_type": "markdown",
   "metadata": {},
   "source": [
    "# Now You Code 3: Syracuse Historical Weather\n",
    "\n",
    "Write a program to prompt a user to input a date and time string, and then it should **report the temperature and weather conditions on that day and time for Syracuse, NY.**\n",
    "\n",
    "To accomplish this, use the Dark Sky Time Machine API, here: https://darksky.net/dev/docs/time-machine \n",
    "\n",
    "You're going to have to read about the API and understand how it works before you can write this program, which is the point of the exercise.\n",
    "\n",
    "The date and time that the user inputs must be in the following format: `YYYY-MM-DDThh:mm:ss` \n",
    "\n",
    "For example January 7, 2016 at 4:30pm would be: `2016-01-07T16:30:00`\n",
    "\n",
    "Be sure to use the GPS coordinates for Syracuse, NY which are (lat=43.048122,lng=-76.147424)\n",
    "\n",
    "Example Run (Based on the exchange rates from 2017-03-06:\n",
    "\n",
    "```\n",
    "Syracuse, NY Historical Weather\n",
    "Enter a date and time in the following format: YYYY-MM-DDThh:mm:ss => 2016-07-23T14:30:00\n",
    "On 2016-07-23T14:30:00 Syracuse, NY was Partly Cloudy with a temperature of  85\n",
    "```\n"
   ]
  },
  {
   "cell_type": "markdown",
   "metadata": {},
   "source": [
    "## Step 1: Problem Analysis\n",
    "\n",
    "Inputs:  \n",
    "\n",
    "Outputs: \n",
    "\n",
    "Algorithm (Steps in Program):\n",
    "\n",
    "```\n",
    "todo write algorithm here\n",
    "```\n"
   ]
  },
  {
   "cell_type": "code",
   "execution_count": 11,
   "metadata": {},
   "outputs": [],
   "source": [
    "# step 2: write code here\n"
   ]
  },
  {
   "cell_type": "markdown",
   "metadata": {},
   "source": [
    "## Step 3: Questions\n",
    "\n",
    "1. What happens when you enter `1/1/2017` as date input? Which error to you get? Fix the program in step 2 so that it handles this error.\n",
    "\n",
    "Answer:\n",
    "\n",
    "\n",
    "2. Put your laptop in Airplane mode (disable the wifi) and then run the program. What happens? Fix the program in step 4 so that it handles this error.\n",
    "\n",
    "Answer:\n",
    "\n"
   ]
  },
  {
   "cell_type": "markdown",
   "metadata": {},
   "source": [
    "## Step 4: Reflection\n",
    "\n",
    "Reflect upon your experience completing this assignment. This should be a personal narrative, in your own voice, and cite specifics relevant to the activity as to help the grader understand how you arrived at the code you submitted. Things to consider touching upon: Elaborate on the process itself. Did your original problem analysis work as designed?  How many iterations did you go through before you arrived at the solution? Where did you struggle along the way and how did you overcome it? What did you learn from completing the assignment? What do you need to work on to get better? What was most valuable and least valuable about this exercise? Do you have any suggestions for improvements?\n",
    "\n",
    "To make a good reflection, you should journal your thoughts, questions and comments while you complete the exercise.\n",
    "\n",
    "Keep your response to between 100 and 250 words.\n",
    "\n",
    "`--== Write Your Reflection Below Here ==--`\n",
    "\n"
   ]
  },
  {
   "cell_type": "code",
   "execution_count": null,
   "metadata": {},
   "outputs": [],
   "source": [
    "# RUN THIS CODE CELL TO TURN IN YOUR WORK!\n",
    "from ist256.submission import Submission\n",
    "Submission().submit()"
   ]
  }
 ],
 "metadata": {
  "anaconda-cloud": {},
  "kernelspec": {
   "display_name": "Python 3",
   "language": "python",
   "name": "python3"
  },
  "language_info": {
   "codemirror_mode": {
    "name": "ipython",
    "version": 3
   },
   "file_extension": ".py",
   "mimetype": "text/x-python",
   "name": "python",
   "nbconvert_exporter": "python",
   "pygments_lexer": "ipython3",
   "version": "3.6.6"
  },
  "toc": {
   "base_numbering": 1,
   "nav_menu": {},
   "number_sections": false,
   "sideBar": false,
   "skip_h1_title": false,
   "title_cell": "Table of Contents",
   "title_sidebar": "Contents",
   "toc_cell": false,
   "toc_position": {},
   "toc_section_display": false,
   "toc_window_display": false
  }
 },
 "nbformat": 4,
 "nbformat_minor": 4
}
