{
 "cells": [
  {
   "cell_type": "markdown",
   "metadata": {},
   "source": [
    "# Now You Code 2: Is That An Email Address?\n",
    "\n",
    "Let's use Python's built-in string functions to write our own function to detect if a string is an email address. \n",
    "\n",
    "The function `isEmail(text)` should return `True` when `text` is an email address, `False` otherwise.  \n",
    "\n",
    "For simplicity's sake we will define an email address to be:\n",
    "\n",
    "- any string with just ONE `@` symbol in it, where the `@` is not at the beginning or end of the string and there is a period AFTER the `@` symbol. So `a@b.c` is considered an email (even though it really isn't).\n",
    "- DO NOT GOOGLE \"How to detect an email in python\"... That's not the point of the exercise. The point is to figure out the problem yourself learning Python's string functions.\n",
    "\n",
    "The program should detect emails until you enter quit. \n",
    "\n",
    "Sample run:\n",
    "```\n",
    "Email address detector. Type quit to exit. \n",
    "Email: mafudge@syr.edu\n",
    "mafudge@syr.edu ==> email\n",
    "Email: mafudge@\n",
    "mafudge@ ==> NOT EMAIL\n",
    "Email: mafudge\n",
    "mafudge ==> NOT EMAIL\n",
    "Email: @syr.edu\n",
    "@syr.edu ==> NOT EMAIL\n",
    "Email: @\n",
    "@ ==> NOT EMAIL\n",
    "Email: mafudge@@syr.edu\n",
    "mafudge@@syr.edu ==> NOT EMAIL\n",
    "Email: mafudge@syr@edu\n",
    "mafudge@syr@edu ==> NOT EMAIL\n",
    "Email: mafudge@syr@edu\n",
    "mafudge@syr ==> NOT EMAIL\n",
    "Email: mafudge@syr@edu\n",
    "mafudge.syr@edu ==> NOT EMAIL\n",
    "```\n",
    "\n",
    "Once again we will use the **problem simplification technique** for writing this program.\n",
    "\n",
    "First we will write the `isEmail(text)` function, then we will write the main program.\n"
   ]
  },
  {
   "cell_type": "markdown",
   "metadata": {},
   "source": [
    "## Step 1: Problem Analysis for isEmail function only\n",
    "\n",
    "Inputs (function arguments):\n",
    "\n",
    "Outputs (what is returns): \n",
    "\n",
    "Algorithm (Steps in Function):\n",
    "\n"
   ]
  },
  {
   "cell_type": "code",
   "execution_count": null,
   "metadata": {},
   "outputs": [],
   "source": [
    "## Step 2: Todo write the function definition for isEmail functiuon\n"
   ]
  },
  {
   "cell_type": "code",
   "execution_count": null,
   "metadata": {},
   "outputs": [],
   "source": [
    "## Step 3: Write some tests, to ensure the function works, for example\n",
    "## Make sure to test all cases!\n",
    "print(\"WHEN text=mike@syr.edu We EXPECT isEmail(text) to return True\", \"ACTUAL\", isEmail(\"mike@syr.edu\") )\n",
    "print(\"WHEN text=mike@ We EXPECT isEmail(text) to return False\", \"ACTUAL\", isEmail(\"mike@\") )\n",
    "print(\"WHEN text=mike@syr We EXPECT isEmail(text) to return False\", \"ACTUAL\", isEmail(\"mike@syr\") )\n",
    "\n"
   ]
  },
  {
   "cell_type": "markdown",
   "metadata": {},
   "source": [
    "## Step 4: Problem Analysis for full Program\n",
    "\n",
    "Inputs:\n",
    "\n",
    "Outputs:\n",
    "\n",
    "Algorithm (Steps in Program):\n",
    "\n"
   ]
  },
  {
   "cell_type": "code",
   "execution_count": 2,
   "metadata": {
    "collapsed": true
   },
   "outputs": [],
   "source": [
    "## Step 5: todo write code for full problem, using the isEmail function to help you solve the problem\n"
   ]
  },
  {
   "cell_type": "markdown",
   "metadata": {},
   "source": [
    "## Step 6: Questions\n",
    "\n",
    "1. How many test cases should you have in step 3 to ensure you've tested all the cases?\n",
    "\n",
    "Answer:\n",
    "\n",
    "\n",
    "2. What kind of logic should we add to make our `isEmail` function even better, so that is detects emails more accurately?\n",
    "\n",
    "\n",
    "Answer:"
   ]
  },
  {
   "cell_type": "markdown",
   "metadata": {},
   "source": [
    "## Step 7: Reflection\n",
    "\n",
    "Reflect upon your experience completing this assignment. This should be a personal narrative, in your own voice, and cite specifics relevant to the activity as to help the grader understand how you arrived at the code you submitted. Things to consider touching upon: Elaborate on the process itself. Did your original problem analysis work as designed?  How many iterations did you go through before you arrived at the solution? Where did you struggle along the way and how did you overcome it? What did you learn from completing the assignment? What do you need to work on to get better? What was most valuable and least valuable about this exercise? Do you have any suggestions for improvements?\n",
    "\n",
    "To make a good reflection, you should journal your thoughts, questions and comments while you complete the exercise.\n",
    "\n",
    "Keep your response to between 100 and 250 words.\n",
    "\n",
    "`--== Write Your Reflection Below Here ==--`\n",
    "\n"
   ]
  }
 ],
 "metadata": {
  "anaconda-cloud": {},
  "kernelspec": {
   "display_name": "Python 3",
   "language": "python",
   "name": "python3"
  },
  "language_info": {
   "codemirror_mode": {
    "name": "ipython",
    "version": 3
   },
   "file_extension": ".py",
   "mimetype": "text/x-python",
   "name": "python",
   "nbconvert_exporter": "python",
   "pygments_lexer": "ipython3",
   "version": "3.6.6"
  },
  "toc": {
   "base_numbering": 1,
   "nav_menu": {},
   "number_sections": false,
   "sideBar": false,
   "skip_h1_title": false,
   "title_cell": "Table of Contents",
   "title_sidebar": "Contents",
   "toc_cell": false,
   "toc_position": {},
   "toc_section_display": false,
   "toc_window_display": false
  }
 },
 "nbformat": 4,
 "nbformat_minor": 1
}
