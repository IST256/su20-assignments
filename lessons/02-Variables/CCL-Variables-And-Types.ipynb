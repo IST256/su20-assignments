{
 "cells": [
  {
   "cell_type": "markdown",
   "metadata": {},
   "source": [
    "# Class Coding Lab: Variables And Types\n",
    "\n",
    "The goals of this lab are to help you to understand:\n",
    "\n",
    "1. Python data types\n",
    "1. Getting input as different types\n",
    "1. Formatting output as different types\n",
    "1. Basic arithmetic operators\n",
    "1. How to create a program from an idea."
   ]
  },
  {
   "cell_type": "markdown",
   "metadata": {},
   "source": [
    "## Variable Types\n",
    "\n",
    "Every Python variable has a **type**. The Type determines how the data is stored in the computer's memory: "
   ]
  },
  {
   "cell_type": "code",
   "execution_count": null,
   "metadata": {},
   "outputs": [],
   "source": [
    "a = \"4\"\n",
    "type(a) # should be str"
   ]
  },
  {
   "cell_type": "code",
   "execution_count": null,
   "metadata": {},
   "outputs": [],
   "source": [
    "a = 4\n",
    "type(a) # should be int"
   ]
  },
  {
   "cell_type": "markdown",
   "metadata": {},
   "source": [
    "### Types Matter \n",
    "\n",
    "Python's built in functions and operators work differently depending on the type of the variable.:"
   ]
  },
  {
   "cell_type": "code",
   "execution_count": null,
   "metadata": {},
   "outputs": [],
   "source": [
    "a = 4\n",
    "b = 5\n",
    "a + b # this plus in this case means add so 9"
   ]
  },
  {
   "cell_type": "code",
   "execution_count": null,
   "metadata": {},
   "outputs": [],
   "source": [
    "a = \"4\"\n",
    "b = \"5\"\n",
    "a + b # the plus + in this case means concatenation, so '45'"
   ]
  },
  {
   "cell_type": "markdown",
   "metadata": {},
   "source": [
    "### Switching Types\n",
    "\n",
    "there are built-in Python functions for switching types. For example:"
   ]
  },
  {
   "cell_type": "code",
   "execution_count": null,
   "metadata": {},
   "outputs": [],
   "source": [
    "x = \"45\" # x is a str\n",
    "y = int(x)  # y is now an int\n",
    "z = float(x) # z is a float\n",
    "print(x,y,z)"
   ]
  },
  {
   "cell_type": "markdown",
   "metadata": {},
   "source": [
    "### Inputs type str\n",
    "\n",
    "When you use the `input()` function the result is of type `str`:\n"
   ]
  },
  {
   "cell_type": "code",
   "execution_count": null,
   "metadata": {},
   "outputs": [],
   "source": [
    "age = input(\"Enter your age: \")\n",
    "type(age)"
   ]
  },
  {
   "cell_type": "markdown",
   "metadata": {},
   "source": [
    "We can use a built in Python function to convert the type from `str` to our desired type:"
   ]
  },
  {
   "cell_type": "code",
   "execution_count": null,
   "metadata": {},
   "outputs": [],
   "source": [
    "age = input(\"Enter your age: \")\n",
    "age = int(age)\n",
    "type(age)"
   ]
  },
  {
   "cell_type": "markdown",
   "metadata": {},
   "source": [
    "We typically combine the first two lines into one expression like this:"
   ]
  },
  {
   "cell_type": "code",
   "execution_count": null,
   "metadata": {},
   "outputs": [],
   "source": [
    "age = int(input(\"Enter your age: \"))\n",
    "type(age)"
   ]
  },
  {
   "cell_type": "markdown",
   "metadata": {},
   "source": [
    "## Now Try This:\n",
    "\n",
    "Write a program to:\n",
    "\n",
    "- input your age, convert it to an int and store it in a variable\n",
    "- add one to your age, store it in another variable\n",
    "- print out your current age and your age next year.\n",
    "\n",
    "For example:\n",
    "```\n",
    "Enter your age: 45\n",
    "Today you are 45 next year you will be 46\n",
    "```"
   ]
  },
  {
   "cell_type": "code",
   "execution_count": null,
   "metadata": {},
   "outputs": [],
   "source": [
    "# TODO: Write your code here\n"
   ]
  },
  {
   "cell_type": "markdown",
   "metadata": {},
   "source": [
    "## Format Codes\n",
    "\n",
    "Python has some string format codes which allow us to control the output of our variables. \n",
    "\n",
    "- %s = format variable as str\n",
    "- %d = format variable as int\n",
    "- %f = format variable as float\n",
    "\n",
    "You can also include the number of spaces to use for example `%5.2f` prints a float with 5 spaces 2 to the right of the decimal point."
   ]
  },
  {
   "cell_type": "code",
   "execution_count": null,
   "metadata": {},
   "outputs": [],
   "source": [
    "name = \"Mike\"\n",
    "age = 45\n",
    "gpa = 3.4\n",
    "print(\"%s is %d years old. His gpa is %.3f\" % (name, age,gpa))"
   ]
  },
  {
   "cell_type": "markdown",
   "metadata": {},
   "source": [
    "## Formatting with F-Strings\n",
    "\n",
    "The other method of formatting data in Python is F-strings. As we saw in the last lab, F-strings use interpolation to specify the variables we would like to print in-line with the print string.\n",
    "\n",
    "You can format an f-string\n",
    "\n",
    "- `{var:d}` formats `var` as integer\n",
    "- `{var:f}` formats `var` as float\n",
    "- `{var:.3f}` formats `var` as float to `3` decimal places.\n",
    "\n",
    "Example:"
   ]
  },
  {
   "cell_type": "code",
   "execution_count": null,
   "metadata": {},
   "outputs": [],
   "source": [
    "name =\"Mike\"\n",
    "wage = 15\n",
    "print(f\"{name} makes ${wage:.2f} per hour\")"
   ]
  },
  {
   "cell_type": "markdown",
   "metadata": {},
   "source": [
    "## Now Try This:\n",
    "\n",
    "Write a print statement using F-strings. print GPA to 3 decimal places, rest of the output should appear just like the example above "
   ]
  },
  {
   "cell_type": "code",
   "execution_count": null,
   "metadata": {},
   "outputs": [],
   "source": [
    "name = \"Mike\"\n",
    "age = 45\n",
    "gpa = 3.4\n",
    "print(\"%s is %d years old. His gpa is %.3f\" % (name, age,gpa))\n",
    "## TODO: Rewrite the above line to use an F-string instead\n",
    "\n"
   ]
  },
  {
   "cell_type": "markdown",
   "metadata": {},
   "source": [
    "## Now Try This:\n",
    "\n",
    "Print the PI variable out 3 times. Once as a string, once as an int and once as a float to 4 decimal places. Use either F-strings for Format Codes."
   ]
  },
  {
   "cell_type": "code",
   "execution_count": null,
   "metadata": {},
   "outputs": [],
   "source": [
    "PI = 3.1415927\n",
    "#TODO: Write Code Here\n"
   ]
  },
  {
   "cell_type": "markdown",
   "metadata": {},
   "source": [
    "## Putting it all together: Fred's Fence Estimator\n",
    "\n",
    "Fred's Fence has hired you to write a program to  estimate the cost of their fencing projects. For a given length and width you will calculate the number of 6 foot fence sections, and the total cost of the project. Each fence section costs $23.95. Assume the posts and labor are free.\n",
    "\n",
    "Program Inputs:\n",
    "\n",
    "- Length of yard in feet\n",
    "- Width of yard in feet\n",
    "    \n",
    "Program Outputs:\n",
    "\n",
    "- Perimeter of yard ( 2 x (Length + Width))\n",
    "- Number of fence sections required (Permiemer divided by 6 )\n",
    "- Total cost for fence ( fence sections multiplied by $23.95 )\n",
    "    \n",
    "NOTE: All outputs should be formatted to 2 decimal places: e.g. 123.05 "
   ]
  },
  {
   "cell_type": "code",
   "execution_count": null,
   "metadata": {},
   "outputs": [],
   "source": [
    "#TODO:\n",
    "# 1. Input length of yard as float, assign to a variable\n",
    "# 2. Input Width of yard as float, assign to a variable\n",
    "# 3. Calculate perimeter of yard, assign to a variable\n",
    "# 4. calculate number of fence sections, assign to a variable \n",
    "# 5. calculate total cost, assign to variable\n",
    "# 6. print perimeter of yard\n",
    "# 7. print number of fence sections\n",
    "# 8. print total cost for fence. "
   ]
  },
  {
   "cell_type": "markdown",
   "metadata": {},
   "source": [
    "## Now Try This\n",
    "\n",
    "Based on the provided TODO, write the program in python in the cell below. Your solution should have 8 lines of code, one for each TODO.\n",
    "\n",
    "**HINT**: Don't try to write the program in one sitting. Instead write a line of code, run it, verify it works and fix any issues with it before writing the next line of code. "
   ]
  },
  {
   "cell_type": "code",
   "execution_count": null,
   "metadata": {},
   "outputs": [],
   "source": [
    "# TODO: Write your code here\n"
   ]
  },
  {
   "cell_type": "markdown",
   "metadata": {},
   "source": [
    "## Metacognition\n",
    "\n",
    "Please answer the following questions. This should be a personal narrative, in your own voice. Answer the questions by **double clicking** on the question and placing your answer next to the Answer: prompt.\n",
    "\n",
    "### Questions\n",
    "\n",
    "1. Record any questions you have about this lab that you would like to ask in recitation. It is expected you will have questions if you did not complete the code sections correctly.  Learning how to articulate what you do not understand is an important skill of critical thinking. \n",
    "\n",
    "Answer: \n",
    "\n",
    "2. What was the most difficult aspect of completing this lab? Least difficult?  \n",
    "\n",
    "Answer: \n",
    "\n",
    "3. What aspects of this lab do you find most valuable? Least valuable?\n",
    "\n",
    "Answer: \n",
    "\n",
    "4. Rate your comfort level with this week's material so far.   \n",
    "\n",
    "1 ==> I can do this on my own and explain how to do it.   \n",
    "2 ==> I can do this on my own without any help.   \n",
    "3 ==> I can do this with help or guidance from others. If you choose this level please list those who helped you.   \n",
    "4 ==> I don't understand this at all yet and need extra help. If you choose this please try to articulate that which you do not understand.   \n",
    "\n",
    "Answer: \n",
    "\n"
   ]
  },
  {
   "cell_type": "code",
   "execution_count": null,
   "metadata": {},
   "outputs": [],
   "source": [
    "# RUN THIS CODE CELL TO TURN IN YOUR WORK!\n",
    "from ist256.submission import Submission\n",
    "Submission().submit()"
   ]
  }
 ],
 "metadata": {
  "anaconda-cloud": {},
  "kernelspec": {
   "display_name": "Python 3",
   "language": "python",
   "name": "python3"
  },
  "language_info": {
   "codemirror_mode": {
    "name": "ipython",
    "version": 3
   },
   "file_extension": ".py",
   "mimetype": "text/x-python",
   "name": "python",
   "nbconvert_exporter": "python",
   "pygments_lexer": "ipython3",
   "version": "3.8.2"
  },
  "toc": {
   "base_numbering": 1,
   "nav_menu": {},
   "number_sections": false,
   "sideBar": false,
   "skip_h1_title": false,
   "title_cell": "Table of Contents",
   "title_sidebar": "Contents",
   "toc_cell": false,
   "toc_position": {},
   "toc_section_display": false,
   "toc_window_display": false
  }
 },
 "nbformat": 4,
 "nbformat_minor": 4
}
