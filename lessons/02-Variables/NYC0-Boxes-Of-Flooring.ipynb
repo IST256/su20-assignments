{
 "cells": [
  {
   "cell_type": "markdown",
   "metadata": {},
   "source": [
    "# Now You Code In-Class: Boxes Of Flooring\n",
    "\n",
    "High's Home Improvement has hired you to write a mobile app which will estimate the number of boxes of laminate flooring required to cover a room. \n",
    "\n",
    "Things to note:\n",
    "\n",
    "- One box of flooring covers 24.5 square feet. \n",
    "- You should account for 10% waste in any project. This means you should by 10% more flooring than you need.\n",
    "\n",
    "Write a python program which given the length and width measurement of a room will correctly calculate:\n",
    "\n",
    "- The area of the room in square feet\n",
    "- The project area when accounting for 10% waste\n",
    "- The number of boxes of flooring required, rounded up to the nearest whole box. \n",
    "\n",
    "Example: \n",
    "\n",
    "```\n",
    "*** Boxes of Flooring ***\n",
    "Length of room (ft): 3\n",
    "Width of room (ft): 6\n",
    "\n",
    "Calculations....\n",
    "Room Area: ==> 18.0 square ft\n",
    "Project Area: 18.0 square ft + 1.8 (10% waste) ==> 19.8 square ft\n",
    "Number of boxes at 24.5 square ft: ==> 1\n",
    "```\n",
    "\n",
    "NOTE: Use string formatters or f-strings to display the output to 1 decimal place.\n",
    "\n",
    "HINT: Use the `math.ceil()` function to round up your number of gallons to the nearest whole number. You cannot sell fractional cans of paint!\n"
   ]
  },
  {
   "cell_type": "markdown",
   "metadata": {
    "collapsed": true
   },
   "source": [
    "## Step 1: Problem Analysis\n",
    "\n",
    "Inputs:\n",
    "\n",
    "Outputs:\n",
    "\n",
    "Algorithm (Steps in Program):\n",
    "\n"
   ]
  },
  {
   "cell_type": "code",
   "execution_count": 1,
   "metadata": {},
   "outputs": [],
   "source": [
    "import math\n",
    "# Step 2: Write code here\n"
   ]
  }
 ],
 "metadata": {
  "anaconda-cloud": {},
  "kernelspec": {
   "display_name": "Python 3",
   "language": "python",
   "name": "python3"
  },
  "language_info": {
   "codemirror_mode": {
    "name": "ipython",
    "version": 3
   },
   "file_extension": ".py",
   "mimetype": "text/x-python",
   "name": "python",
   "nbconvert_exporter": "python",
   "pygments_lexer": "ipython3",
   "version": "3.6.6"
  },
  "toc": {
   "base_numbering": 1,
   "nav_menu": {},
   "number_sections": false,
   "sideBar": false,
   "skip_h1_title": false,
   "title_cell": "Table of Contents",
   "title_sidebar": "Contents",
   "toc_cell": false,
   "toc_position": {},
   "toc_section_display": false,
   "toc_window_display": false
  }
 },
 "nbformat": 4,
 "nbformat_minor": 1
}
