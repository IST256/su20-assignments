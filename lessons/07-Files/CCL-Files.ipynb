{
 "cells": [
  {
   "cell_type": "markdown",
   "metadata": {},
   "source": [
    "# In-Class Coding Lab: Files\n",
    "\n",
    "The goals of this lab are to help you to understand:\n",
    "\n",
    "- Reading data from a file all at once or one line at a time.\n",
    "- Searching for data in files\n",
    "- Parsing text data to numerical data.\n",
    "- How to build complex programs incrementally.\n",
    "\n",
    "## Average  Spam Confidence\n",
    "\n",
    "For this lab, we will write a program to read spam confidence headers from a mailbox file like `CCL-mbox-tiny.txt` or `CCL-mbox-small.txt`. These files contain raw email data, and in that data is a SPAM confidence number for each message:\n",
    "\n",
    "`X-DSPAM-Confidence:0.8475`\n",
    "\n",
    "Our goal will be to find each of these lines in the file, and extract the confidence number (In this case `0.8475`), with the end-goal of calculating the average SPAM Confidence of all the emails in the file. \n",
    "\n",
    "### Reading from the file\n",
    "\n",
    "Let's start with some code to read the lines of text from `CCL-mbox-tiny.txt`"
   ]
  },
  {
   "cell_type": "code",
   "execution_count": null,
   "metadata": {},
   "outputs": [],
   "source": [
    "filename = \"CCL-mbox-tiny.txt\"\n",
    "with open(filename, 'r') as f:\n",
    "    for line in f.readlines():\n",
    "        print(line.strip())        \n"
   ]
  },
  {
   "cell_type": "markdown",
   "metadata": {},
   "source": [
    "### Now Try It\n",
    "\n",
    "Now modify the code above to print the number of lines in the file, instead of printing the lines themselves. You'll need to increment a variable each time through the loop and then print it out afterwards.\n",
    "\n",
    "There should be **332** lines.\n"
   ]
  },
  {
   "cell_type": "code",
   "execution_count": null,
   "metadata": {},
   "outputs": [],
   "source": [
    "# TODO Write code to not print the lines but count the number of lines!\n",
    "\n"
   ]
  },
  {
   "cell_type": "markdown",
   "metadata": {},
   "source": [
    "\n",
    "### Finding the SPAM Confidence\n",
    "\n",
    "Next, we'll focus on only getting lines addressing `X-DSPAM-Confidence:`. We do this by including an `if` statement inside  the `for` loop. This is a very common pattern in computing used to search through massive amouts of data.\n",
    "\n",
    "You need to edit line 4 of the code below to only print lines which begin with `X-DSPAM-Confidence:` You know you got it working if in your output there are only **5** rows."
   ]
  },
  {
   "cell_type": "code",
   "execution_count": null,
   "metadata": {},
   "outputs": [],
   "source": [
    "filename = \"CCL-mbox-tiny.txt\"\n",
    "with open(filename, 'r') as f:\n",
    "    for line in f.readlines():\n",
    "        if TODO: \n",
    "            print(line.strip())        \n"
   ]
  },
  {
   "cell_type": "markdown",
   "metadata": {},
   "source": [
    "### Parsing out the confidence value\n",
    "\n",
    "The final step is to figure out how to parse out the confidence value from the string. \n",
    "For example for the given line: `X-DSPAM-Confidence: 0.8475` we need to get the value `0.8475` as a float.\n",
    "\n",
    "The  strategy here is to replace `X-DSPAM-Confidence:` with an empty string, then calling the `float()` function to convert the results to a float. \n",
    "\n",
    "### Now Try It\n",
    "\n",
    "Write code to parse the value `0.8475` from the text string `'X-DSPAM-Confidence: 0.8475'`."
   ]
  },
  {
   "cell_type": "code",
   "execution_count": null,
   "metadata": {},
   "outputs": [],
   "source": [
    "line = 'X-DSPAM-Confidence: 0.8475'\n",
    "number =  #TODO remove 'X-DSPAM-Confidence:' , then convert to a float.\n",
    "print (number)"
   ]
  },
  {
   "cell_type": "markdown",
   "metadata": {},
   "source": [
    "### Putting it all together\n",
    "\n",
    "Now that we have all the working parts, let's put it all together.\n",
    "\n",
    "```\n",
    "0.  use the file named 'CCL-mbox-short.txt' \n",
    "1.  line count is 0\n",
    "2.  total confidence is 0\n",
    "3.  open mailbox file\n",
    "4.  for each line in file\n",
    "5.  if line starts with `X-DSPAM-Confidence:`\n",
    "6.     remove `X-DSPAM-Confidence:` from line and convert to float\n",
    "7.     increment line count\n",
    "8.     add spam confidence to total confidence\n",
    "9.  print average confidence (total confidence/line count)\n",
    "```"
   ]
  },
  {
   "cell_type": "code",
   "execution_count": 3,
   "metadata": {},
   "outputs": [],
   "source": [
    "## TODO: Write program here:\n",
    "filename  = 'CCL-mbox-short.txt'"
   ]
  },
  {
   "cell_type": "markdown",
   "metadata": {},
   "source": [
    "### Question\n",
    "\n",
    "How do you know this is right? How Can you verify it's right?  HINT: You might not be able to hand-calculate the average spam confidence, but you can do that with `CCL-mbox-tiny.txt`, right?"
   ]
  },
  {
   "cell_type": "markdown",
   "metadata": {},
   "source": [
    "## Metacognition\n",
    "\n",
    "Please answer the following questions. This should be a personal narrative, in your own voice. Answer the questions by double clicking on the question and placing your answer next to the Answer: prompt.\n",
    "\n",
    "### Questions\n",
    "\n",
    "\n",
    "1. Record any questions you have about this lab that you would like to ask in recitation. It is expected you will have questions if you did not complete the code sections correctly.  Learning how to articulate what you do not understand is an important skill of critical thinking. \n",
    "\n",
    "Answer: \n",
    "\n",
    "2. What was the most difficult aspect of completing this lab? Least difficult?  \n",
    "\n",
    "Answer: \n",
    "\n",
    "3. What aspects of this lab do you find most valuable? Least valuable?\n",
    "\n",
    "Answer: \n",
    "\n",
    "4. Rate your comfort level with this week's material so far.   \n",
    "\n",
    "1 ==> I can do this on my own and explain how to do it.   \n",
    "2 ==> I can do this on my own without any help.   \n",
    "3 ==> I can do this with help or guidance from others. If you choose this level please list those who helped you.   \n",
    "4 ==> I don't understand this at all yet and need extra help. If you choose this please try to articulate that which you do not understand.   \n",
    "\n",
    "Answer: \n",
    "\n"
   ]
  },
  {
   "cell_type": "code",
   "execution_count": null,
   "metadata": {},
   "outputs": [],
   "source": [
    "# RUN THIS CODE CELL TO TURN IN YOUR WORK!\n",
    "from ist256.submission import Submission\n",
    "Submission().submit()"
   ]
  }
 ],
 "metadata": {
  "anaconda-cloud": {},
  "kernelspec": {
   "display_name": "Python 3",
   "language": "python",
   "name": "python3"
  },
  "language_info": {
   "codemirror_mode": {
    "name": "ipython",
    "version": 3
   },
   "file_extension": ".py",
   "mimetype": "text/x-python",
   "name": "python",
   "nbconvert_exporter": "python",
   "pygments_lexer": "ipython3",
   "version": "3.8.2"
  },
  "toc": {
   "base_numbering": 1,
   "nav_menu": {},
   "number_sections": false,
   "sideBar": false,
   "skip_h1_title": false,
   "title_cell": "Table of Contents",
   "title_sidebar": "Contents",
   "toc_cell": false,
   "toc_position": {},
   "toc_section_display": false,
   "toc_window_display": false
  }
 },
 "nbformat": 4,
 "nbformat_minor": 4
}
