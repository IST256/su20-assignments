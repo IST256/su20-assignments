{
 "cells": [
  {
   "cell_type": "markdown",
   "metadata": {},
   "source": [
    "# Now You Code 0: Extracting Hyperlinks from a Webpage\n",
    "\n",
    "Let's write a program which extracts the hyperlinks from a Webpage. There are 3 webpage files you can try with this program:\n",
    "\n",
    "```\n",
    "file = 'NYC0-httpbin-org.html'\n",
    "file = 'NYC0-ischool-website.html'\n",
    "file = 'NYC0-wikipedia-President-of-the-United-States.html'\n",
    "```\n",
    "Here's the basic strategy: you should be looking for the following token in the text of the file `<a href=\"` when you find this token the link is all characters until the second `\"` character. \n",
    "\n",
    "For example: `<a href=\"http://ist256.github.io\">` the Hyperlink would be: `http://ist256.github.io`.\n",
    "\n",
    "## Recommended approach (the problem simplification technique):\n",
    "\n",
    "We will use the problem simplification technique to solve this problem. It works by solving a simpler problem then taking what you've learned to solve a more complicated problem.\n",
    "\n",
    "1. Try to extract `http://ist256.github.io` from the string `<a href=\"http://ist256.github.io\">` in Python code\n",
    "2. Then read in the `file = 'NYC0-httpbin-org.html'` text file into a variable, and use the same code in step 1. to extract the first Hyperlink in the text. For `file = 'NYC0-httpbin-org.html'` It will be `https://github.com/requests/httpbin`\n",
    "3. Finally try to figure out how to use a loop to extract all the urls in the string text you read from the file. For `file = 'NYC0-httpbin-org.html'` you should get these Hyperlinks: `https://github.com/requests/httpbin`, `https://kennethreitz.org`, `mailto:me@kennethreitz.org`, `/forms/post`\n",
    "\n",
    "A little HTML primer - there are 4 types of hyperlinks you will see:\n",
    "\n",
    "- those which begin with `http` are external links to other pages off site.\n",
    "- those which begin with `mailto` are links to email addresses\n",
    "- those which begin with a `/` are internal links other pages on the same website\n",
    "- those which begin with a `#` are internal links to places on the same page\n",
    "\n",
    "Anything else is not a link and you're probably extracting incorrectly."
   ]
  },
  {
   "cell_type": "markdown",
   "metadata": {
    "collapsed": true
   },
   "source": [
    "## Step 1: Problem Analysis\n",
    "\n",
    "You should write 3 algorithms, one for each iteration of your problem simplification technique\n",
    "\n",
    "Inputs:\n",
    "\n",
    "Outputs:\n",
    "\n",
    "Algorithm (Steps in Program):\n",
    "\n",
    "\n"
   ]
  },
  {
   "cell_type": "code",
   "execution_count": 29,
   "metadata": {},
   "outputs": [],
   "source": [
    "## Step 2: write code here\n",
    "\n",
    "file = 'NYC0-httpbin-org.html'\n",
    "#file = 'NYC0-ischool-website.html'\n",
    "#file = 'NYC0-wikipedia-President-of-the-United-States.html'\n"
   ]
  }
 ],
 "metadata": {
  "anaconda-cloud": {},
  "kernelspec": {
   "display_name": "Python 3",
   "language": "python",
   "name": "python3"
  },
  "language_info": {
   "codemirror_mode": {
    "name": "ipython",
    "version": 3
   },
   "file_extension": ".py",
   "mimetype": "text/x-python",
   "name": "python",
   "nbconvert_exporter": "python",
   "pygments_lexer": "ipython3",
   "version": "3.6.6"
  },
  "toc": {
   "base_numbering": 1,
   "nav_menu": {},
   "number_sections": false,
   "sideBar": false,
   "skip_h1_title": false,
   "title_cell": "Table of Contents",
   "title_sidebar": "Contents",
   "toc_cell": false,
   "toc_position": {},
   "toc_section_display": false,
   "toc_window_display": false
  }
 },
 "nbformat": 4,
 "nbformat_minor": 1
}
