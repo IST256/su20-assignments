{
 "cells": [
  {
   "cell_type": "markdown",
   "metadata": {},
   "source": [
    "# Now You Code 1: Word Count\n",
    "\n",
    "Let's write a program which takes a file name as input, counts the number of words in the file, then outputs the word count.\n",
    "\n",
    "The program should handle `FileNotFoundError` as an exception in case you enter a file that does not exist.\n",
    "\n",
    "Sample Run #1:\n",
    "\n",
    "```\n",
    "Word Count!\n",
    "Enter Filename: NYC1-romeo.txt\n",
    "There are 33 words in NYC1-romeo.txt\n",
    "```\n",
    "\n",
    "Sample Run #2:\n",
    "\n",
    "```\n",
    "Word Count!\n",
    "Enter Filename: testing\n",
    "File Not Found: testing\n",
    "```\n",
    "Try these files:\n",
    "\n",
    "- `NYC1-cant-stop-the-feeling.txt`\n",
    "- `NYC1-preamble.txt`\n",
    "- `NYC1-romeo.txt` or \n",
    "- `NYC1-zork.txt`\n",
    "\n",
    "\n",
    "**HINT**: Read in the file a line at a time, then split the line into words and count each word... and remember your algorithm does not need to account for exceptions... those are programming concerns!\n"
   ]
  },
  {
   "cell_type": "markdown",
   "metadata": {
    "collapsed": true
   },
   "source": [
    "## Step 1: Problem Analysis\n",
    "\n",
    "Inputs:\n",
    "\n",
    "Outputs:\n",
    "\n",
    "Algorithm (Steps in Program):\n",
    "\n",
    "\n"
   ]
  },
  {
   "cell_type": "code",
   "execution_count": 10,
   "metadata": {},
   "outputs": [],
   "source": [
    "## Step 2: write code here\n",
    "\n"
   ]
  },
  {
   "cell_type": "markdown",
   "metadata": {
    "collapsed": true
   },
   "source": [
    "## Step 3: Questions\n",
    "\n",
    "1. Where are these files located? Make your own file, add words to it then run with the word count program.\n",
    "\n",
    "Answer:\n",
    "\n",
    "\n",
    "2. Explain a strategy for making this program smarter so that it does not include puncutuation in the word counts?\n",
    "\n",
    "Answer:\n",
    "\n",
    "\n",
    "3. Is it possible to have a file with a word count of 0? Explain.\n",
    "\n",
    "\n",
    "Answer:"
   ]
  },
  {
   "cell_type": "markdown",
   "metadata": {},
   "source": [
    "## Step 4: Reflection\n",
    "\n",
    "Reflect upon your experience completing this assignment. This should be a personal narrative, in your own voice, and cite specifics relevant to the activity as to help the grader understand how you arrived at the code you submitted. Things to consider touching upon: Elaborate on the process itself. Did your original problem analysis work as designed?  How many iterations did you go through before you arrived at the solution? Where did you struggle along the way and how did you overcome it? What did you learn from completing the assignment? What do you need to work on to get better? What was most valuable and least valuable about this exercise? Do you have any suggestions for improvements?\n",
    "\n",
    "To make a good reflection, you should journal your thoughts, questions and comments while you complete the exercise.\n",
    "\n",
    "Keep your response to between 100 and 250 words.\n",
    "\n",
    "`--== Write Your Reflection Below Here ==--`\n",
    "\n"
   ]
  }
 ],
 "metadata": {
  "anaconda-cloud": {},
  "kernelspec": {
   "display_name": "Python 3",
   "language": "python",
   "name": "python3"
  },
  "language_info": {
   "codemirror_mode": {
    "name": "ipython",
    "version": 3
   },
   "file_extension": ".py",
   "mimetype": "text/x-python",
   "name": "python",
   "nbconvert_exporter": "python",
   "pygments_lexer": "ipython3",
   "version": "3.6.6"
  },
  "toc": {
   "base_numbering": 1,
   "nav_menu": {},
   "number_sections": false,
   "sideBar": false,
   "skip_h1_title": false,
   "title_cell": "Table of Contents",
   "title_sidebar": "Contents",
   "toc_cell": false,
   "toc_position": {},
   "toc_section_display": false,
   "toc_window_display": false
  }
 },
 "nbformat": 4,
 "nbformat_minor": 1
}
