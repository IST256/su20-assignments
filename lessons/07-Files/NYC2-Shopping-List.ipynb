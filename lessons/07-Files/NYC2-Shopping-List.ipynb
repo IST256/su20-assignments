{
 "cells": [
  {
   "cell_type": "markdown",
   "metadata": {},
   "source": [
    "# Now You Code 2: Shopping List\n",
    "\n",
    "Write a program to input a list of grocery items for your shopping list and then writes them to a file a line at a time.  The program should keep asking you to enter grocery items until you type `'done'`.\n",
    "\n",
    "After you complete the list, the program should then load the file and read the list back to you by printing each item out.\n",
    "\n",
    "Sample Run:\n",
    "\n",
    "```\n",
    "Let's make a shopping list. Type 'done' when you're finished:\n",
    "Enter Item: milk\n",
    "Enter Item: cheese\n",
    "Enter Item: eggs\n",
    "Enter Item: beer\n",
    "Enter Item: apples\n",
    "Enter Item: done\n",
    "Your shopping list:\n",
    "milk\n",
    "cheese\n",
    "eggs\n",
    "beer\n",
    "apples\n",
    "```\n"
   ]
  },
  {
   "cell_type": "markdown",
   "metadata": {
    "collapsed": true
   },
   "source": [
    "## Step 1: Problem Analysis\n",
    "\n",
    "Inputs:\n",
    "\n",
    "Outputs:\n",
    "\n",
    "Algorithm (Steps in Program):\n",
    "\n"
   ]
  },
  {
   "cell_type": "code",
   "execution_count": null,
   "metadata": {},
   "outputs": [],
   "source": [
    "filename = \"NYC2-shopping-list.txt\"\n",
    "## Step 2: write code here\n",
    "   "
   ]
  },
  {
   "cell_type": "markdown",
   "metadata": {
    "collapsed": true
   },
   "source": [
    "## Step 3: Refactoring\n",
    "\n",
    "Refactor the part of your program which reads the shopping list from the file into a separate user-defined function called `readShoppingList` \n",
    "re-write your program to use this function.\n",
    "\n",
    "## ReadShoppingList function\n",
    "\n",
    "Inputs:\n",
    "\n",
    "Outputs:\n",
    "\n",
    "Algorithm (Steps in Program):\n",
    "\n",
    "\n",
    "\n"
   ]
  },
  {
   "cell_type": "code",
   "execution_count": 2,
   "metadata": {
    "collapsed": true
   },
   "outputs": [],
   "source": [
    "## Step 4: Write program again with refactored code.\n",
    "def readShoppingList():\n",
    "    shoppingList = []\n",
    "    # todo read shopping list here\n",
    "    \n",
    "    return shoppingList\n",
    "\n",
    "\n",
    "# TODO Main code here\n",
    "\n"
   ]
  },
  {
   "cell_type": "markdown",
   "metadata": {},
   "source": [
    "## Step 5: Questions\n",
    "\n",
    "1. Is the refactored code in step 4 easier to read? Why or why not?\n",
    "\n",
    "Answer:\n",
    "\n",
    "2. Explain how this program could be refactored further (there's one thing that's obvious).\n",
    "\n",
    "Answer:\n",
    "\n",
    "\n",
    "3. Describe how this program can be modified to support multiple shopping lists?\n",
    "\n",
    "Answer:"
   ]
  },
  {
   "cell_type": "markdown",
   "metadata": {},
   "source": [
    "## Step 6: Reflection\n",
    "\n",
    "Reflect upon your experience completing this assignment. This should be a personal narrative, in your own voice, and cite specifics relevant to the activity as to help the grader understand how you arrived at the code you submitted. Things to consider touching upon: Elaborate on the process itself. Did your original problem analysis work as designed?  How many iterations did you go through before you arrived at the solution? Where did you struggle along the way and how did you overcome it? What did you learn from completing the assignment? What do you need to work on to get better? What was most valuable and least valuable about this exercise? Do you have any suggestions for improvements?\n",
    "\n",
    "To make a good reflection, you should journal your thoughts, questions and comments while you complete the exercise.\n",
    "\n",
    "Keep your response to between 100 and 250 words.\n",
    "\n",
    "`--== Write Your Reflection Below Here ==--`\n",
    "\n"
   ]
  }
 ],
 "metadata": {
  "anaconda-cloud": {},
  "kernelspec": {
   "display_name": "Python 3",
   "language": "python",
   "name": "python3"
  },
  "language_info": {
   "codemirror_mode": {
    "name": "ipython",
    "version": 3
   },
   "file_extension": ".py",
   "mimetype": "text/x-python",
   "name": "python",
   "nbconvert_exporter": "python",
   "pygments_lexer": "ipython3",
   "version": "3.6.6"
  },
  "toc": {
   "base_numbering": 1,
   "nav_menu": {},
   "number_sections": false,
   "sideBar": false,
   "skip_h1_title": false,
   "title_cell": "Table of Contents",
   "title_sidebar": "Contents",
   "toc_cell": false,
   "toc_position": {},
   "toc_section_display": false,
   "toc_window_display": false
  }
 },
 "nbformat": 4,
 "nbformat_minor": 1
}
