{
 "cells": [
  {
   "cell_type": "code",
   "execution_count": null,
   "metadata": {},
   "outputs": [],
   "source": [
    "# run this code to login to https://okpy.org/ and setup the assignment for submission\n",
    "from ist256 import okclient\n",
    "ok = okclient.Homework()"
   ]
  },
  {
   "cell_type": "markdown",
   "metadata": {},
   "source": [
    "# Now You Code 4: Email Harvest Training\n",
    "\n",
    "Let's teach you how to extract emails from text. This has a variety of applications. The most common being buiding a list of emails for spamming... er, I meant \"mass marketing.\" \n",
    "\n",
    "The best way to find the emails in the mailbox file is to search for lines in the file that begin with \"From: (similar to what we did in the lab). When you find an email write just the email address (not \"From:\" and the address) to \"NYC4-emails.txt\", and don't worry about duplicates.\n",
    "\n",
    "The program should print the number of emails it wrote to the file.\n",
    "\n",
    "Example Run:\n",
    "\n",
    "```\n",
    "Wrote 27 emails to NYC4-emails.txt\n",
    "```"
   ]
  },
  {
   "cell_type": "markdown",
   "metadata": {},
   "source": [
    "## Step 1: Problem Analysis\n",
    "\n",
    "Input: (No user input, but we do read from the file `NYC4-mbox-short.txt`\n",
    "\n",
    "Output (The number of emails collected from the file, and a new file `NYC4-emails.txt` with one email per line.\n",
    "\n",
    "Algorithm:\n",
    "\n",
    "```\n",
    "(write here)\n",
    "```\n"
   ]
  },
  {
   "cell_type": "code",
   "execution_count": 1,
   "metadata": {},
   "outputs": [],
   "source": [
    "## Step 2: Write the code\n",
    "\n",
    "\n",
    "    "
   ]
  },
  {
   "cell_type": "code",
   "execution_count": 2,
   "metadata": {},
   "outputs": [],
   "source": [
    "## Step 3: Write another program to read the emails from NYC4-emails.txt and print them to the console\n",
    "\n"
   ]
  },
  {
   "cell_type": "markdown",
   "metadata": {},
   "source": [
    "## Step 4: Questions\n",
    "\n",
    "1. Does this code actually \"detect\" emails? How does it find emails in the text?\n",
    "\n",
    "Answer:\n",
    "\n",
    "\n",
    "2. Explain how this program can be improved to prompt for an email file at runtime?\n",
    "\n",
    "Answer:\n",
    "\n",
    "\n",
    "3. Devise an approach to remove duplicate emails from the output file. You don't have to write as code, just explain it.\n",
    "\n",
    "Answer:"
   ]
  },
  {
   "cell_type": "markdown",
   "metadata": {},
   "source": [
    "## Step 5: Reflection\n",
    "\n",
    "Reflect upon your experience completing this assignment. This should be a personal narrative, in your own voice, and cite specifics relevant to the activity as to help the grader understand how you arrived at the code you submitted. Things to consider touching upon: Elaborate on the process itself. Did your original problem analysis work as designed?  How many iterations did you go through before you arrived at the solution? Where did you struggle along the way and how did you overcome it? What did you learn from completing the assignment? What do you need to work on to get better? What was most valuable and least valuable about this exercise? Do you have any suggestions for improvements?\n",
    "\n",
    "To make a good reflection, you should journal your thoughts, questions and comments while you complete the exercise.\n",
    "\n",
    "Keep your response to between 100 and 250 words.\n",
    "\n",
    "`--== Write Your Reflection Below Here ==--`\n",
    "\n"
   ]
  },
  {
   "cell_type": "code",
   "execution_count": null,
   "metadata": {},
   "outputs": [],
   "source": [
    "# to save and turn in your work, execute this cell. Your latest submission will be graded. \n",
    "ok.submit()"
   ]
  }
 ],
 "metadata": {
  "anaconda-cloud": {},
  "kernelspec": {
   "display_name": "Python 3",
   "language": "python",
   "name": "python3"
  },
  "language_info": {
   "codemirror_mode": {
    "name": "ipython",
    "version": 3
   },
   "file_extension": ".py",
   "mimetype": "text/x-python",
   "name": "python",
   "nbconvert_exporter": "python",
   "pygments_lexer": "ipython3",
   "version": "3.6.6"
  },
  "toc": {
   "base_numbering": 1,
   "nav_menu": {},
   "number_sections": false,
   "sideBar": false,
   "skip_h1_title": false,
   "title_cell": "Table of Contents",
   "title_sidebar": "Contents",
   "toc_cell": false,
   "toc_position": {},
   "toc_section_display": false,
   "toc_window_display": false
  }
 },
 "nbformat": 4,
 "nbformat_minor": 1
}
